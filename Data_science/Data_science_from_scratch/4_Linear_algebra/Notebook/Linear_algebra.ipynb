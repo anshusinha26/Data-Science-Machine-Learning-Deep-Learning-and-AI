{
 "cells": [
  {
   "cell_type": "markdown",
   "id": "76773f2b-ecb4-4b6b-9500-70dd282c250d",
   "metadata": {},
   "source": [
    "# Vectors"
   ]
  },
  {
   "cell_type": "markdown",
   "id": "b48f81d9-2543-4529-bd8f-2d14d367ac7e",
   "metadata": {},
   "source": [
    "* Abstractly, vectors are objects that can be added together to form new vectors and that can be multiplied by scalars (i.e., numbers), also to form new vectors.\n",
    "\n",
    "* The simplest from-scratch approach is to represent vectors as lists of numbers. A list of three numbers corresponds to a vector in three- dimensional space, and vice versa."
   ]
  },
  {
   "cell_type": "code",
   "execution_count": 2,
   "id": "09623e9c-5a00-4d54-bc54-833de4024696",
   "metadata": {},
   "outputs": [],
   "source": [
    "from typing import List"
   ]
  },
  {
   "cell_type": "code",
   "execution_count": 5,
   "id": "34f2532a-dfb9-4a57-bb03-1b020afba4a1",
   "metadata": {},
   "outputs": [],
   "source": [
    "Vector = List[float]\n",
    "\n",
    "height_weight_age = [\n",
    "    70,\n",
    "    170,\n",
    "    40\n",
    "]\n",
    "\n",
    "grades = [\n",
    "    95, \n",
    "    80,\n",
    "    75,\n",
    "    62\n",
    "]"
   ]
  },
  {
   "cell_type": "code",
   "execution_count": 6,
   "id": "a9afc078-a950-4fa4-9415-4c60b5370999",
   "metadata": {},
   "outputs": [
    {
     "data": {
      "text/plain": [
       "[70, 170, 40]"
      ]
     },
     "execution_count": 6,
     "metadata": {},
     "output_type": "execute_result"
    }
   ],
   "source": [
    "height_weight_age"
   ]
  },
  {
   "cell_type": "code",
   "execution_count": 7,
   "id": "60222a4e-9153-4ecf-9a51-5a16d2add1bd",
   "metadata": {},
   "outputs": [
    {
     "data": {
      "text/plain": [
       "[95, 80, 75, 62]"
      ]
     },
     "execution_count": 7,
     "metadata": {},
     "output_type": "execute_result"
    }
   ],
   "source": [
    "grades"
   ]
  },
  {
   "cell_type": "code",
   "execution_count": 17,
   "id": "1dcc2c3d-4587-4053-a79b-846139c3db96",
   "metadata": {},
   "outputs": [],
   "source": [
    "# add two vectors\n",
    "def add(v: Vector, w: Vector) -> Vector:\n",
    "    '''\n",
    "    add corresponding elements\n",
    "    '''\n",
    "    assert len(v) == len(w), 'vectors must be the same length'\n",
    "    return [v_i + w_i for v_i, w_i in zip(v, w)]\n",
    "\n",
    "result = add([1, 2, 3], [4, 5, 6]) == [5, 7, 9]"
   ]
  },
  {
   "cell_type": "code",
   "execution_count": 18,
   "id": "fcbcd913-014b-494f-b3cb-7ca28301ad23",
   "metadata": {},
   "outputs": [
    {
     "data": {
      "text/plain": [
       "True"
      ]
     },
     "execution_count": 18,
     "metadata": {},
     "output_type": "execute_result"
    }
   ],
   "source": [
    "result"
   ]
  },
  {
   "cell_type": "code",
   "execution_count": 26,
   "id": "10275258-f781-444b-8c1e-a619fa307c65",
   "metadata": {},
   "outputs": [],
   "source": [
    "# subtract two vectors\n",
    "def subtract(v: Vector, w: Vector) -> Vector:\n",
    "    '''\n",
    "    subtract corresponding elements\n",
    "    '''\n",
    "    assert len(v) == len(w), 'vectors must be the same length'\n",
    "    return [v_i - w_i for v_i, w_i in zip(v, w)]\n",
    "\n",
    "v = [1, 2, 3]\n",
    "w = [4, 5, 6]\n",
    "result = subtract(v, w)"
   ]
  },
  {
   "cell_type": "code",
   "execution_count": 27,
   "id": "86bb9771-0957-4e23-a03c-c451206c2a5c",
   "metadata": {},
   "outputs": [
    {
     "data": {
      "text/plain": [
       "[-3, -3, -3]"
      ]
     },
     "execution_count": 27,
     "metadata": {},
     "output_type": "execute_result"
    }
   ],
   "source": [
    "result"
   ]
  },
  {
   "cell_type": "markdown",
   "id": "5320077a-006e-46ee-8890-afdac536b2cc",
   "metadata": {},
   "source": [
    "* We’ll also sometimes want to componentwise sum a list of vectors—that is, create a new vector whose first element is the sum of all the first elements, whose second element is the sum of all the second elements, and so on:"
   ]
  },
  {
   "cell_type": "code",
   "execution_count": 32,
   "id": "de2ec19c-3cc9-4779-9849-143add98e5d0",
   "metadata": {},
   "outputs": [],
   "source": [
    "def vector_sum(vectors: List[Vector]) -> Vector:\n",
    "    '''\n",
    "    sums all corresponding elements\n",
    "    '''\n",
    "    # check whether the vectors is empty\n",
    "    assert vectors, 'no vectors provided!'\n",
    "    \n",
    "    #check the vectors are all the same size\n",
    "    num_elements = len(vectors[0])\n",
    "    assert all(len(v) == num_elements for v in vectors), 'different sizes!'\n",
    "\n",
    "    return [sum(vector[i] for vector in vectors)\n",
    "           for i in range(num_elements)]\n",
    "\n",
    "vectors = [[1, 2], [3, 4], [5, 6], [7, 8]]\n",
    "result = vector_sum(vectors)"
   ]
  },
  {
   "cell_type": "code",
   "execution_count": 33,
   "id": "e80659ca-8ee5-434b-8b46-b72853c9ed81",
   "metadata": {},
   "outputs": [
    {
     "name": "stdout",
     "output_type": "stream",
     "text": [
      "[16, 20]\n"
     ]
    }
   ],
   "source": [
    "print(result)"
   ]
  },
  {
   "cell_type": "markdown",
   "id": "148b9de5-98d9-4508-a4e1-9448b5ac359e",
   "metadata": {},
   "source": [
    "* We’ll also need to be able to multiply a vector by a scalar, which we do simply by multiplying each element of the vector by that number:\n"
   ]
  },
  {
   "cell_type": "code",
   "execution_count": 34,
   "id": "388f4352-272e-4dde-92eb-98e74bdd9cd7",
   "metadata": {},
   "outputs": [],
   "source": [
    "def scalar_multiply(c: float, v: Vector) -> Vector:\n",
    "    '''\n",
    "    multiplies every element by c\n",
    "    '''\n",
    "    return [c * i for i in v]\n",
    "\n",
    "result = scalar_multiply(2, [1, 2, 3])"
   ]
  },
  {
   "cell_type": "code",
   "execution_count": 36,
   "id": "bd613550-efc7-4c65-bd73-6dd0c3cfa5a3",
   "metadata": {},
   "outputs": [
    {
     "name": "stdout",
     "output_type": "stream",
     "text": [
      "[2, 4, 6]\n"
     ]
    }
   ],
   "source": [
    "print(result)"
   ]
  },
  {
   "cell_type": "markdown",
   "id": "1d70c9d7-4761-44c3-88e2-6cfb333774df",
   "metadata": {},
   "source": [
    "* This allows us to compute the componentwise means of a list of (same- sized) vectors:"
   ]
  },
  {
   "cell_type": "code",
   "execution_count": 37,
   "id": "0ce2863e-9133-40fd-a447-d6f700e17337",
   "metadata": {},
   "outputs": [
    {
     "name": "stdout",
     "output_type": "stream",
     "text": [
      "[3.0, 4.0]\n"
     ]
    }
   ],
   "source": [
    "def vector_mean(v: List[Vector]) -> Vector:\n",
    "    '''\n",
    "    computes the element-wise average\n",
    "    '''\n",
    "    n = len(v)\n",
    "    return scalar_multiply(1/n, vector_sum(v))\n",
    "\n",
    "print(vector_mean([[1, 2], [3, 4], [5, 6]]))"
   ]
  },
  {
   "cell_type": "markdown",
   "id": "25db6085-960c-4f23-a5e2-a4dc438022ae",
   "metadata": {},
   "source": [
    "* A less obvious tool is the dot product. The dot product of two vectors is the sum of their componentwise products:"
   ]
  },
  {
   "cell_type": "code",
   "execution_count": 38,
   "id": "d30d968d-19d7-4e77-ab8c-01b6070625a3",
   "metadata": {},
   "outputs": [
    {
     "name": "stdout",
     "output_type": "stream",
     "text": [
      "32\n"
     ]
    }
   ],
   "source": [
    "def dot(v: Vector, w: Vector) -> Vector:\n",
    "    '''\n",
    "    computes the component wise sum of the procucts\n",
    "    '''\n",
    "    assert len(v) == len(w), 'vectors must be the same length'\n",
    "    return sum(i * j for i, j in zip(v, w))\n",
    "\n",
    "print(dot([1, 2, 3], [4, 5, 6]))"
   ]
  },
  {
   "cell_type": "code",
   "execution_count": 39,
   "id": "8c5001de-0423-41db-a0ed-c511917b1f5f",
   "metadata": {},
   "outputs": [
    {
     "name": "stdout",
     "output_type": "stream",
     "text": [
      "14\n"
     ]
    }
   ],
   "source": [
    "# computer sum of squares\n",
    "def sum_of_squares(v: Vector) -> Vector:\n",
    "    '''\n",
    "    returns v1 * v1 + v2 * v2 + ... + vn * n\n",
    "    '''\n",
    "    return dot(v, v)\n",
    "\n",
    "print(sum_of_squares([1, 2, 3]))"
   ]
  },
  {
   "cell_type": "code",
   "execution_count": 43,
   "id": "b1de9d7a-1ba1-4be5-b29b-96eafd13db54",
   "metadata": {},
   "outputs": [
    {
     "name": "stdout",
     "output_type": "stream",
     "text": [
      "5.0\n"
     ]
    }
   ],
   "source": [
    "# compute magnitude or length\n",
    "import math\n",
    "def magnitude(v: Vector) -> Vector:\n",
    "    '''\n",
    "    returns the magnitude or legnth of v\n",
    "    '''\n",
    "    return math.sqrt(sum_of_squares(v))\n",
    "\n",
    "print(magnitude([3, 4]))"
   ]
  },
  {
   "cell_type": "code",
   "execution_count": 45,
   "id": "396fc524-fb38-45ce-8f70-50f0cbd483ba",
   "metadata": {},
   "outputs": [
    {
     "name": "stdout",
     "output_type": "stream",
     "text": [
      "8\n"
     ]
    }
   ],
   "source": [
    "# compute sqaured distance\n",
    "def squared_distance(v: Vector, w: Vector) -> Vector:\n",
    "    '''\n",
    "    computes (v1 * w1)**2 + ... + (vn * wn)**2\n",
    "    '''\n",
    "    return sum_of_squares(subtract(v, w))\n",
    "\n",
    "print(squared_distance([1, 2], [3, 4]))"
   ]
  },
  {
   "cell_type": "code",
   "execution_count": 46,
   "id": "ebc80724-10f8-4325-9e0c-d5a2fb0c864b",
   "metadata": {},
   "outputs": [
    {
     "name": "stdout",
     "output_type": "stream",
     "text": [
      "2.8284271247461903\n"
     ]
    }
   ],
   "source": [
    "# compute distance\n",
    "def distance(v: Vector, w: Vector) -> Vector:\n",
    "    '''\n",
    "    computes the distance between v and w\n",
    "    '''\n",
    "    return math.sqrt(squared_distance(v, w))\n",
    "\n",
    "print(distance([1, 2], [3, 4]))"
   ]
  },
  {
   "cell_type": "markdown",
   "id": "f58771e6-22c6-4b50-8c43-b7ee862af164",
   "metadata": {},
   "source": [
    "# Matrices"
   ]
  },
  {
   "cell_type": "code",
   "execution_count": null,
   "id": "0f42044b-8419-4bd5-99e7-42ef07ec37e5",
   "metadata": {},
   "outputs": [],
   "source": []
  }
 ],
 "metadata": {
  "kernelspec": {
   "display_name": "Python 3 (ipykernel)",
   "language": "python",
   "name": "python3"
  },
  "language_info": {
   "codemirror_mode": {
    "name": "ipython",
    "version": 3
   },
   "file_extension": ".py",
   "mimetype": "text/x-python",
   "name": "python",
   "nbconvert_exporter": "python",
   "pygments_lexer": "ipython3",
   "version": "3.12.2"
  }
 },
 "nbformat": 4,
 "nbformat_minor": 5
}
