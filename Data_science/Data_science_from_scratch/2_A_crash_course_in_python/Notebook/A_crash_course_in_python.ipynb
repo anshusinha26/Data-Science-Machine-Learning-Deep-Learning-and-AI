{
 "cells": [
  {
   "cell_type": "markdown",
   "id": "523cb287-ee35-445f-b0a6-18197b34792b",
   "metadata": {},
   "source": [
    "# Whitespace formatting"
   ]
  },
  {
   "cell_type": "code",
   "execution_count": 1,
   "id": "51e57894-1463-4937-87eb-cfa994e3f870",
   "metadata": {},
   "outputs": [
    {
     "name": "stdout",
     "output_type": "stream",
     "text": [
      "0\n",
      "0\n",
      "0\n",
      "1\n",
      "1\n",
      "2\n",
      "2\n",
      "3\n",
      "3\n",
      "4\n",
      "4\n",
      "0\n",
      "1\n",
      "0\n",
      "1\n",
      "1\n",
      "2\n",
      "2\n",
      "3\n",
      "3\n",
      "4\n",
      "4\n",
      "5\n",
      "1\n",
      "2\n",
      "0\n",
      "2\n",
      "1\n",
      "3\n",
      "2\n",
      "4\n",
      "3\n",
      "5\n",
      "4\n",
      "6\n",
      "2\n",
      "3\n",
      "0\n",
      "3\n",
      "1\n",
      "4\n",
      "2\n",
      "5\n",
      "3\n",
      "6\n",
      "4\n",
      "7\n",
      "3\n",
      "4\n",
      "0\n",
      "4\n",
      "1\n",
      "5\n",
      "2\n",
      "6\n",
      "3\n",
      "7\n",
      "4\n",
      "8\n",
      "4\n",
      "Done looping!\n"
     ]
    }
   ],
   "source": [
    "for i in range(5):\n",
    "    # for i block\n",
    "    print(i)\n",
    "    # for j block\n",
    "    for j in range(5):\n",
    "        print(j)\n",
    "        print(i + j)\n",
    "    # for i block\n",
    "    print(i)\n",
    "print('Done looping!')"
   ]
  },
  {
   "cell_type": "markdown",
   "id": "38195949-1418-48ca-b526-20abe3922768",
   "metadata": {},
   "source": [
    "* Whitespace is ignored inside parentheses and brackets, which can be helpful for long-winded computations:"
   ]
  },
  {
   "cell_type": "code",
   "execution_count": 2,
   "id": "577d822a-566b-415d-b5f8-af61c0506518",
   "metadata": {},
   "outputs": [
    {
     "data": {
      "text/plain": [
       "15"
      ]
     },
     "execution_count": 2,
     "metadata": {},
     "output_type": "execute_result"
    }
   ],
   "source": [
    "long_winded_computation = (1 + 2 + 3 + 4 + 5)\n",
    "long_winded_computation"
   ]
  },
  {
   "cell_type": "code",
   "execution_count": 3,
   "id": "29bee0f2-8721-4c3b-9e1d-9a7aebf09d1a",
   "metadata": {},
   "outputs": [
    {
     "data": {
      "text/plain": [
       "[[1, 2, 3], [4, 5, 6], [7, 8, 9]]"
      ]
     },
     "execution_count": 3,
     "metadata": {},
     "output_type": "execute_result"
    }
   ],
   "source": [
    "list_of_lists = [\n",
    "    [1, 2 ,3],\n",
    "    [4, 5, 6],\n",
    "    [7, 8, 9]\n",
    "]\n",
    "list_of_lists"
   ]
  },
  {
   "cell_type": "markdown",
   "id": "7c624800-4b71-422a-9740-b9bedce3c849",
   "metadata": {},
   "source": [
    "* You can also use a backslash to indicate that a statement continues onto the next line, although we’ll rarely do this:"
   ]
  },
  {
   "cell_type": "code",
   "execution_count": 4,
   "id": "d65b3d24-a676-468c-b5c6-32374f91688f",
   "metadata": {},
   "outputs": [
    {
     "data": {
      "text/plain": [
       "5"
      ]
     },
     "execution_count": 4,
     "metadata": {},
     "output_type": "execute_result"
    }
   ],
   "source": [
    "two_plus_three = 2 + \\\n",
    "3\n",
    "\n",
    "two_plus_three"
   ]
  },
  {
   "cell_type": "code",
   "execution_count": 5,
   "id": "e85d75de-f6f5-4d20-8378-84f8055d7037",
   "metadata": {},
   "outputs": [
    {
     "name": "stdout",
     "output_type": "stream",
     "text": [
      "0\n",
      "1\n",
      "2\n",
      "3\n",
      "4\n"
     ]
    }
   ],
   "source": [
    "for i in range(5):\n",
    "\n",
    "    # notice the above 👆🏻 blank line\n",
    "    print(i)\n",
    "    "
   ]
  },
  {
   "cell_type": "markdown",
   "id": "4ad061c8-8a5f-452e-8643-e9eb7a6614ab",
   "metadata": {},
   "source": [
    "# Modules"
   ]
  },
  {
   "cell_type": "code",
   "execution_count": 6,
   "id": "9c075e46-075f-4cf1-a20c-ded47151a876",
   "metadata": {},
   "outputs": [
    {
     "data": {
      "text/plain": [
       "re.compile(r'[0-9]+', re.IGNORECASE|re.UNICODE)"
      ]
     },
     "execution_count": 6,
     "metadata": {},
     "output_type": "execute_result"
    }
   ],
   "source": [
    "import re\n",
    "my_regex = re.compile('[0-9]+', re.I) #  is the module containing functions and constants for working with regular expressions\n",
    "my_regex"
   ]
  },
  {
   "cell_type": "markdown",
   "id": "e5b47b68-3229-4aa6-845c-1b9f46c871c9",
   "metadata": {},
   "source": [
    "* Making alias"
   ]
  },
  {
   "cell_type": "code",
   "execution_count": 7,
   "id": "26ca054d-3a32-4a8b-a58b-97097be7a81d",
   "metadata": {},
   "outputs": [
    {
     "data": {
      "text/plain": [
       "re.compile(r'[0-9]+', re.IGNORECASE|re.UNICODE)"
      ]
     },
     "execution_count": 7,
     "metadata": {},
     "output_type": "execute_result"
    }
   ],
   "source": [
    "import re as regex\n",
    "my_regex = regex.compile('[0-9]+', regex.I)\n",
    "my_regex"
   ]
  },
  {
   "cell_type": "code",
   "execution_count": 8,
   "id": "fb595973-58d2-4026-b680-bae377ae527b",
   "metadata": {},
   "outputs": [
    {
     "data": {
      "text/plain": [
       "[<matplotlib.lines.Line2D at 0x113d66ab0>]"
      ]
     },
     "execution_count": 8,
     "metadata": {},
     "output_type": "execute_result"
    },
    {
     "data": {
      "image/png": "[encoded data removed]",
      "text/plain": [
       "<Figure size 640x480 with 1 Axes>"
      ]
     },
     "metadata": {},
     "output_type": "display_data"
    }
   ],
   "source": [
    "import matplotlib.pyplot as plt\n",
    "plt.plot(1, 2)"
   ]
  },
  {
   "cell_type": "markdown",
   "id": "f0897541-b569-4d85-b582-2b5f719eaa59",
   "metadata": {},
   "source": [
    "* If you need a few specific values from a module, you can import them explicitly and use them without qualification:"
   ]
  },
  {
   "cell_type": "code",
   "execution_count": 9,
   "id": "f3257ce3-9bc0-44ca-aaae-d227657e46c8",
   "metadata": {},
   "outputs": [],
   "source": [
    "from collections import defaultdict, Counter\n",
    "loopup = defaultdict(int)\n",
    "my_counter = Counter()"
   ]
  },
  {
   "cell_type": "markdown",
   "id": "e95ec304-285c-4e47-9f0e-b700bff4e7c4",
   "metadata": {},
   "source": [
    "* If you were a bad person, you could import the entire contents of a module into your namespace, which might inadvertently overwrite variables you’ve already defined:"
   ]
  },
  {
   "cell_type": "code",
   "execution_count": 10,
   "id": "f0b46790-b54b-4321-937f-ab9772fcc3fe",
   "metadata": {},
   "outputs": [
    {
     "name": "stdout",
     "output_type": "stream",
     "text": [
      "<function match at 0x10be63f60>\n"
     ]
    }
   ],
   "source": [
    "match = 10\n",
    "from re import *\n",
    "print(match)"
   ]
  },
  {
   "cell_type": "markdown",
   "id": "8b809650-386a-43e8-b2bb-46c1661d5cdd",
   "metadata": {},
   "source": [
    "# Functions"
   ]
  },
  {
   "cell_type": "code",
   "execution_count": 11,
   "id": "8b4096a4-a277-4737-a966-b72b568e1767",
   "metadata": {},
   "outputs": [
    {
     "name": "stdout",
     "output_type": "stream",
     "text": [
      "10\n"
     ]
    }
   ],
   "source": [
    "def double(x):\n",
    "    '''\n",
    "    This function multiplies its input by 2\n",
    "    '''\n",
    "    return x * 2\n",
    "\n",
    "print(double(5))"
   ]
  },
  {
   "cell_type": "markdown",
   "id": "62a3b2bb-9fbc-4acf-bcc1-2cb4ab8eaea2",
   "metadata": {},
   "source": [
    "* It is also easy to create short anonymous functions, or lambdas:"
   ]
  },
  {
   "cell_type": "code",
   "execution_count": 12,
   "id": "c52bd2e6-5e58-4735-98b3-ff079a71713d",
   "metadata": {},
   "outputs": [],
   "source": [
    "def apply_to_one(f):\n",
    "    '''\n",
    "    Calls the function f with 1 as its argument\n",
    "    '''\n",
    "    return f(1)\n",
    "\n",
    "y = apply_to_one(lambda x : x + 4)"
   ]
  },
  {
   "cell_type": "code",
   "execution_count": 13,
   "id": "a25a4416-6fad-40bf-b57b-29c1d217a359",
   "metadata": {},
   "outputs": [
    {
     "data": {
      "text/plain": [
       "5"
      ]
     },
     "execution_count": 13,
     "metadata": {},
     "output_type": "execute_result"
    }
   ],
   "source": [
    "y"
   ]
  },
  {
   "cell_type": "markdown",
   "id": "13a79022-8265-4280-8c05-efb5a8fec626",
   "metadata": {},
   "source": [
    "* Function parameters can also be given default arguments, which only need to be specified when you want a value other than the default:\n"
   ]
  },
  {
   "cell_type": "code",
   "execution_count": 14,
   "id": "317cb896-cc58-4f9c-8768-21ff865f590c",
   "metadata": {},
   "outputs": [
    {
     "name": "stdout",
     "output_type": "stream",
     "text": [
      "Hello world!\n",
      "my default message\n"
     ]
    }
   ],
   "source": [
    "def my_print(message = 'my default message'):\n",
    "    print(message)\n",
    "\n",
    "my_print('Hello world!')\n",
    "my_print()"
   ]
  },
  {
   "cell_type": "markdown",
   "id": "6906f9bd-10a2-4673-8194-0054dcfdaf23",
   "metadata": {},
   "source": [
    "* It is sometimes useful to specify arguments by name:"
   ]
  },
  {
   "cell_type": "code",
   "execution_count": 15,
   "id": "93a89a4e-7de0-4831-a29e-ea0a303882cf",
   "metadata": {},
   "outputs": [
    {
     "name": "stdout",
     "output_type": "stream",
     "text": [
      "Anshu Sinha\n",
      "Joel something\n",
      "what's his name? kumar\n"
     ]
    }
   ],
   "source": [
    "def full_name(first = \"what's his name?\", last = 'something'):\n",
    "    print(f'{first} {last}')\n",
    "\n",
    "full_name('Anshu', 'Sinha')\n",
    "full_name('Joel')\n",
    "full_name(last='kumar')"
   ]
  },
  {
   "cell_type": "markdown",
   "id": "fc3b8889-8205-46db-8b96-9c23e0cba39f",
   "metadata": {},
   "source": [
    "# Strings"
   ]
  },
  {
   "cell_type": "code",
   "execution_count": 16,
   "id": "f54ac06d-abc1-447d-93bc-88846b193c88",
   "metadata": {},
   "outputs": [
    {
     "data": {
      "text/plain": [
       "('Hello world!', 'Hola mundo!')"
      ]
     },
     "execution_count": 16,
     "metadata": {},
     "output_type": "execute_result"
    }
   ],
   "source": [
    "string_single_quoted = 'Hello world!'\n",
    "string_double_quoted = \"Hola mundo!\"\n",
    "\n",
    "string_single_quoted, string_double_quoted"
   ]
  },
  {
   "cell_type": "markdown",
   "id": "b7663f4f-b960-4a23-9d6b-6c9700001e92",
   "metadata": {},
   "source": [
    "* Python uses backslashes to encode special characters. For example:"
   ]
  },
  {
   "cell_type": "code",
   "execution_count": 17,
   "id": "4416c846-4ff9-4059-bfa8-70bc52b56416",
   "metadata": {},
   "outputs": [
    {
     "data": {
      "text/plain": [
       "1"
      ]
     },
     "execution_count": 17,
     "metadata": {},
     "output_type": "execute_result"
    }
   ],
   "source": [
    "tab_string = '\\t' # represents the tab character\n",
    "len(tab_string)"
   ]
  },
  {
   "cell_type": "markdown",
   "id": "b9a3c0cf-c1ad-47c9-9f98-11f86eb322cd",
   "metadata": {},
   "source": [
    "* You can create multiline strings using three double quotes:"
   ]
  },
  {
   "cell_type": "code",
   "execution_count": 18,
   "id": "7e2cf66d-0841-4173-9ce6-d785c5bd4720",
   "metadata": {},
   "outputs": [
    {
     "data": {
      "text/plain": [
       "' This is the first line, and this is the second line, and this is the third line '"
      ]
     },
     "execution_count": 18,
     "metadata": {},
     "output_type": "execute_result"
    }
   ],
   "source": [
    "multi_line_string = ''' \\\n",
    "This is the first line, \\\n",
    "and this is the second line, \\\n",
    "and this is the third line \\\n",
    "'''\n",
    "multi_line_string"
   ]
  },
  {
   "cell_type": "markdown",
   "id": "94efe474-378e-4a5d-af6c-8de027cc7028",
   "metadata": {},
   "source": [
    "# Exceptions"
   ]
  },
  {
   "cell_type": "markdown",
   "id": "fb29297a-66bb-47bf-be21-15918a8171c6",
   "metadata": {},
   "source": [
    "* When something goes wrong, Python raises an exception. Unhandled, exceptions will cause your program to crash. You can handle them using try and except:\n"
   ]
  },
  {
   "cell_type": "code",
   "execution_count": 19,
   "id": "10a04173-44b7-44b0-befd-c9039d7d1a29",
   "metadata": {},
   "outputs": [
    {
     "name": "stdout",
     "output_type": "stream",
     "text": [
      "cannot divide by zero\n"
     ]
    }
   ],
   "source": [
    "try:\n",
    "    print(0/0)\n",
    "except ZeroDivisionError:\n",
    "    print('cannot divide by zero')"
   ]
  },
  {
   "cell_type": "markdown",
   "id": "f07b7551-6371-4cfc-b824-0946b211f4c3",
   "metadata": {},
   "source": [
    "# Lists"
   ]
  },
  {
   "cell_type": "code",
   "execution_count": 20,
   "id": "a1c1c717-7925-42a9-8484-204550da6b98",
   "metadata": {},
   "outputs": [
    {
     "data": {
      "text/plain": [
       "['string', 0.1, True]"
      ]
     },
     "execution_count": 20,
     "metadata": {},
     "output_type": "execute_result"
    }
   ],
   "source": [
    "heterogeneous_list = ['string', 0.1, True]\n",
    "heterogeneous_list"
   ]
  },
  {
   "cell_type": "code",
   "execution_count": 21,
   "id": "5879027d-3cda-4cba-a51f-8188d7799f77",
   "metadata": {},
   "outputs": [
    {
     "data": {
      "text/plain": [
       "0.1"
      ]
     },
     "execution_count": 21,
     "metadata": {},
     "output_type": "execute_result"
    }
   ],
   "source": [
    "heterogeneous_list[-2]"
   ]
  },
  {
   "cell_type": "code",
   "execution_count": 22,
   "id": "954e8225-3fe7-4ab4-b260-b9323336ebc0",
   "metadata": {},
   "outputs": [
    {
     "data": {
      "text/plain": [
       "['string', 0.1, True]"
      ]
     },
     "execution_count": 22,
     "metadata": {},
     "output_type": "execute_result"
    }
   ],
   "source": [
    "heterogeneous_list[:]"
   ]
  },
  {
   "cell_type": "code",
   "execution_count": 23,
   "id": "09f2440f-4ad6-4e66-81e4-02018c53221b",
   "metadata": {},
   "outputs": [
    {
     "data": {
      "text/plain": [
       "[0.1, True]"
      ]
     },
     "execution_count": 23,
     "metadata": {},
     "output_type": "execute_result"
    }
   ],
   "source": [
    "heterogeneous_list[1:]"
   ]
  },
  {
   "cell_type": "code",
   "execution_count": 24,
   "id": "df4b6e6a-d130-44e6-a26a-097318d3a6fc",
   "metadata": {},
   "outputs": [
    {
     "data": {
      "text/plain": [
       "[True, 0.1, 'string']"
      ]
     },
     "execution_count": 24,
     "metadata": {},
     "output_type": "execute_result"
    }
   ],
   "source": [
    "heterogeneous_list[::-1]"
   ]
  },
  {
   "cell_type": "markdown",
   "id": "0c5c9c38-56e5-4819-9b3f-6e980df4f84d",
   "metadata": {},
   "source": [
    "* Python has an operator to check for list membership:"
   ]
  },
  {
   "cell_type": "code",
   "execution_count": 25,
   "id": "631a403b-22a4-41ef-a201-3eaa71751076",
   "metadata": {},
   "outputs": [
    {
     "data": {
      "text/plain": [
       "True"
      ]
     },
     "execution_count": 25,
     "metadata": {},
     "output_type": "execute_result"
    }
   ],
   "source": [
    "True in heterogeneous_list"
   ]
  },
  {
   "cell_type": "code",
   "execution_count": 26,
   "id": "4d694ee1-18e8-4b6a-89ad-2cabaca051d4",
   "metadata": {},
   "outputs": [
    {
     "data": {
      "text/plain": [
       "False"
      ]
     },
     "execution_count": 26,
     "metadata": {},
     "output_type": "execute_result"
    }
   ],
   "source": [
    "9 in heterogeneous_list"
   ]
  },
  {
   "cell_type": "markdown",
   "id": "e60bbe0d-e3f7-4698-8d9a-2dab29e7a515",
   "metadata": {},
   "source": [
    "* \n",
    "It is easy to concatenate lists together. If you want to modify a list in place, you can use to add items from another collection:"
   ]
  },
  {
   "cell_type": "code",
   "execution_count": 27,
   "id": "4ae9628c-29e2-4ebf-8d4e-b6ad58f0d1fa",
   "metadata": {},
   "outputs": [
    {
     "data": {
      "text/plain": [
       "['string', 0.1, True, 1, 2, 3]"
      ]
     },
     "execution_count": 27,
     "metadata": {},
     "output_type": "execute_result"
    }
   ],
   "source": [
    "x = [1, 2, 3]\n",
    "heterogeneous_list.extend(x)\n",
    "heterogeneous_list"
   ]
  },
  {
   "cell_type": "code",
   "execution_count": 28,
   "id": "0eb08788-7ab2-4c8b-bfd6-3143b2d3d650",
   "metadata": {},
   "outputs": [
    {
     "data": {
      "text/plain": [
       "['string', 0.1, True, 1, 2, 3, 'a', 'b', 'c']"
      ]
     },
     "execution_count": 28,
     "metadata": {},
     "output_type": "execute_result"
    }
   ],
   "source": [
    "y = ['a', 'b', 'c']\n",
    "heterogeneous_list + y # without modifying y or heterogeneous_lists"
   ]
  },
  {
   "cell_type": "code",
   "execution_count": 29,
   "id": "6d6e01df-f307-4cf9-a3bc-f67f5cee17f1",
   "metadata": {},
   "outputs": [
    {
     "data": {
      "text/plain": [
       "['a', 'b', 'c']"
      ]
     },
     "execution_count": 29,
     "metadata": {},
     "output_type": "execute_result"
    }
   ],
   "source": [
    "y"
   ]
  },
  {
   "cell_type": "code",
   "execution_count": 30,
   "id": "63bf4db4-0dc3-4fd8-a033-01157cff7640",
   "metadata": {},
   "outputs": [
    {
     "data": {
      "text/plain": [
       "3"
      ]
     },
     "execution_count": 30,
     "metadata": {},
     "output_type": "execute_result"
    }
   ],
   "source": [
    "_, _, y = [1, 2 ,3]\n",
    "y"
   ]
  },
  {
   "cell_type": "code",
   "execution_count": 31,
   "id": "cc3f38fd-02f0-4c13-a154-9a2f2c24949c",
   "metadata": {},
   "outputs": [
    {
     "data": {
      "text/plain": [
       "2"
      ]
     },
     "execution_count": 31,
     "metadata": {},
     "output_type": "execute_result"
    }
   ],
   "source": [
    "_"
   ]
  },
  {
   "cell_type": "code",
   "execution_count": 32,
   "id": "58711013-74b2-4eed-a8e7-eae4e0840dcd",
   "metadata": {},
   "outputs": [
    {
     "data": {
      "text/plain": [
       "(2, 2)"
      ]
     },
     "execution_count": 32,
     "metadata": {},
     "output_type": "execute_result"
    }
   ],
   "source": [
    "_, _"
   ]
  },
  {
   "cell_type": "markdown",
   "id": "62a9db1b-52f1-416a-9530-9bd4afa8a8de",
   "metadata": {},
   "source": [
    "# Tuples"
   ]
  },
  {
   "cell_type": "markdown",
   "id": "0b26223d-cda5-4a15-9ef2-4a48d585296a",
   "metadata": {},
   "source": [
    "* Tuples are lists’ immutable cousins"
   ]
  },
  {
   "cell_type": "code",
   "execution_count": 33,
   "id": "db303adb-ceaa-4f6d-ae9e-03f334b11d0c",
   "metadata": {},
   "outputs": [],
   "source": [
    "my_list = [1, 2]\n",
    "my_tuple = (1, 2)\n",
    "other_tuple = 3, 4\n",
    "my_list[1] = 2"
   ]
  },
  {
   "cell_type": "code",
   "execution_count": 34,
   "id": "3b9804c0-a98d-4c75-ac4f-774117e0d818",
   "metadata": {},
   "outputs": [
    {
     "data": {
      "text/plain": [
       "(3, 4)"
      ]
     },
     "execution_count": 34,
     "metadata": {},
     "output_type": "execute_result"
    }
   ],
   "source": [
    "other_tuple"
   ]
  },
  {
   "cell_type": "code",
   "execution_count": 35,
   "id": "6191a3a6-b9b5-4616-bdeb-8aa58a6c720a",
   "metadata": {},
   "outputs": [
    {
     "name": "stdout",
     "output_type": "stream",
     "text": [
      "cannot modify a tuple\n"
     ]
    }
   ],
   "source": [
    "try:\n",
    "    my_tuple[1] = 3\n",
    "except TypeError:\n",
    "    print('cannot modify a tuple')"
   ]
  },
  {
   "cell_type": "markdown",
   "id": "d9665d83-20f5-489a-b673-4185d2053e2c",
   "metadata": {},
   "source": [
    "* Return multiple values from functions:"
   ]
  },
  {
   "cell_type": "code",
   "execution_count": 36,
   "id": "d86c2115-071f-4f0d-8c9c-3a962bf94050",
   "metadata": {},
   "outputs": [],
   "source": [
    "def sum_and_product(x, y):\n",
    "    return (x + y), (x * y)\n",
    "\n",
    "sp = sum_and_product(2, 3) # packing\n",
    "s, p = sum_and_product(3, 4) # unpacking"
   ]
  },
  {
   "cell_type": "code",
   "execution_count": 37,
   "id": "32360bd1-fc77-4542-a824-04f4d27697c4",
   "metadata": {},
   "outputs": [
    {
     "data": {
      "text/plain": [
       "7"
      ]
     },
     "execution_count": 37,
     "metadata": {},
     "output_type": "execute_result"
    }
   ],
   "source": [
    "s"
   ]
  },
  {
   "cell_type": "code",
   "execution_count": 38,
   "id": "715bcff1-47ab-4a61-876b-ea188b0c144e",
   "metadata": {},
   "outputs": [
    {
     "data": {
      "text/plain": [
       "12"
      ]
     },
     "execution_count": 38,
     "metadata": {},
     "output_type": "execute_result"
    }
   ],
   "source": [
    "p"
   ]
  },
  {
   "cell_type": "code",
   "execution_count": 39,
   "id": "02550a8f-d256-49d1-b121-7c100c6fc649",
   "metadata": {},
   "outputs": [
    {
     "data": {
      "text/plain": [
       "(5, 6)"
      ]
     },
     "execution_count": 39,
     "metadata": {},
     "output_type": "execute_result"
    }
   ],
   "source": [
    "sp"
   ]
  },
  {
   "cell_type": "markdown",
   "id": "84d6234f-de14-4b89-9e0a-5bbbbf63c4b3",
   "metadata": {},
   "source": [
    "# Dictionaries"
   ]
  },
  {
   "cell_type": "code",
   "execution_count": 40,
   "id": "e9fcd27f-fe6a-48ec-abf6-82824a6b9ea4",
   "metadata": {},
   "outputs": [
    {
     "data": {
      "text/plain": [
       "92"
      ]
     },
     "execution_count": 40,
     "metadata": {},
     "output_type": "execute_result"
    }
   ],
   "source": [
    "grades = {\n",
    "    'Alex': 92,\n",
    "    'John': 84\n",
    "}\n",
    "\n",
    "alex_grade = grades['Alex']\n",
    "alex_grade"
   ]
  },
  {
   "cell_type": "markdown",
   "id": "d1f9274c-f0c1-4d2a-a077-b2fa01687a2c",
   "metadata": {},
   "source": [
    "* But you'll get a KeyError if you ask for a key that's not present in the dictionary:"
   ]
  },
  {
   "cell_type": "code",
   "execution_count": 41,
   "id": "0fe4cb58-ab6a-41d2-aed1-0768da7617e3",
   "metadata": {},
   "outputs": [
    {
     "name": "stdout",
     "output_type": "stream",
     "text": [
      "no grade for kate!\n"
     ]
    }
   ],
   "source": [
    "try:\n",
    "    kates_grade = grades['Kate']\n",
    "except KeyError:\n",
    "    print('no grade for kate!')"
   ]
  },
  {
   "cell_type": "code",
   "execution_count": 42,
   "id": "64b48ea7-f73c-43f9-b82a-642c992703c9",
   "metadata": {},
   "outputs": [
    {
     "data": {
      "text/plain": [
       "True"
      ]
     },
     "execution_count": 42,
     "metadata": {},
     "output_type": "execute_result"
    }
   ],
   "source": [
    "'Alex' in grades"
   ]
  },
  {
   "cell_type": "code",
   "execution_count": 43,
   "id": "95738f53-0feb-45e3-b963-79ac1078f7b0",
   "metadata": {},
   "outputs": [
    {
     "data": {
      "text/plain": [
       "False"
      ]
     },
     "execution_count": 43,
     "metadata": {},
     "output_type": "execute_result"
    }
   ],
   "source": [
    "'Mercer' in grades"
   ]
  },
  {
   "cell_type": "markdown",
   "id": "c26247ac-d97c-45f9-9b97-683a63033ecc",
   "metadata": {},
   "source": [
    "* In Python, the get() method is a convenient way to access the value of a key in a dictionary without raising an error if the key does not exist. The get() method takes two parameters: the key you want to retrieve the value for, and an optional default value to return if the key is not found.\n",
    "\n"
   ]
  },
  {
   "cell_type": "code",
   "execution_count": 44,
   "id": "1066bfa8-781c-49fa-9804-fee733e372e9",
   "metadata": {},
   "outputs": [
    {
     "data": {
      "text/plain": [
       "92"
      ]
     },
     "execution_count": 44,
     "metadata": {},
     "output_type": "execute_result"
    }
   ],
   "source": [
    "alex_grade = grades.get('Alex')\n",
    "alex_grade"
   ]
  },
  {
   "cell_type": "code",
   "execution_count": 45,
   "id": "9a1b69cd-87e8-4dcc-9269-511b8e5a7c31",
   "metadata": {},
   "outputs": [],
   "source": [
    "mercer_grade = grades.get('Mercer')\n",
    "mercer_grade"
   ]
  },
  {
   "cell_type": "markdown",
   "id": "c63234a8-6439-4748-8f73-5495fe41f7f1",
   "metadata": {},
   "source": [
    "* Besides looking for specific keys, we can look at all of them:"
   ]
  },
  {
   "cell_type": "code",
   "execution_count": 46,
   "id": "bcb0c35a-b93c-4513-8707-ea40449955a1",
   "metadata": {},
   "outputs": [
    {
     "data": {
      "text/plain": [
       "dict_keys(['Alex', 'John'])"
      ]
     },
     "execution_count": 46,
     "metadata": {},
     "output_type": "execute_result"
    }
   ],
   "source": [
    "grades.keys()"
   ]
  },
  {
   "cell_type": "code",
   "execution_count": 47,
   "id": "154be7b1-42c2-4962-be67-4a5b71043860",
   "metadata": {},
   "outputs": [
    {
     "data": {
      "text/plain": [
       "dict_values([92, 84])"
      ]
     },
     "execution_count": 47,
     "metadata": {},
     "output_type": "execute_result"
    }
   ],
   "source": [
    "grades.values()"
   ]
  },
  {
   "cell_type": "code",
   "execution_count": 48,
   "id": "192ac4cf-26c1-4502-8460-f8dd0a0a25e3",
   "metadata": {},
   "outputs": [
    {
     "data": {
      "text/plain": [
       "dict_items([('Alex', 92), ('John', 84)])"
      ]
     },
     "execution_count": 48,
     "metadata": {},
     "output_type": "execute_result"
    }
   ],
   "source": [
    "grades.items()"
   ]
  },
  {
   "cell_type": "markdown",
   "id": "cdaf0169-9bfb-46ed-8f20-57be263b5b12",
   "metadata": {},
   "source": [
    "# defautldict"
   ]
  },
  {
   "cell_type": "code",
   "execution_count": 49,
   "id": "2cf0884e-c138-4247-8a3e-cc531780155c",
   "metadata": {},
   "outputs": [],
   "source": [
    "from collections import defaultdict"
   ]
  },
  {
   "cell_type": "code",
   "execution_count": 50,
   "id": "9470de26-07fb-4ffb-ad6e-9bbfa4e0c7fc",
   "metadata": {},
   "outputs": [],
   "source": [
    "document = {\n",
    "    'Apple': 5,\n",
    "    'Mango': 5, \n",
    "    'Guava': 5,\n",
    "    'Bananas': 7,\n",
    "    'Grapes': 6\n",
    "}\n",
    "\n",
    "word_counts = defaultdict(int)\n",
    "for word in document:\n",
    "    word_counts[word] += 1"
   ]
  },
  {
   "cell_type": "code",
   "execution_count": 51,
   "id": "dfd9bbf3-af01-4eb7-8d8e-59d532c67ca0",
   "metadata": {},
   "outputs": [
    {
     "data": {
      "text/plain": [
       "defaultdict(int,\n",
       "            {'Apple': 1, 'Mango': 1, 'Guava': 1, 'Bananas': 1, 'Grapes': 1})"
      ]
     },
     "execution_count": 51,
     "metadata": {},
     "output_type": "execute_result"
    }
   ],
   "source": [
    "word_counts"
   ]
  },
  {
   "cell_type": "markdown",
   "id": "e828c370-0654-4c18-a081-b70a56b6ff77",
   "metadata": {},
   "source": [
    "* They can also be useful with or , or even your own functions:"
   ]
  },
  {
   "cell_type": "code",
   "execution_count": 52,
   "id": "50e7bce2-f60b-4ff4-a246-533da8947869",
   "metadata": {},
   "outputs": [],
   "source": [
    "dd_list = defaultdict(list)\n",
    "dd_list[2].append(1)"
   ]
  },
  {
   "cell_type": "code",
   "execution_count": 53,
   "id": "a6d49fba-cf58-409c-b1ab-dc9b0fa4f069",
   "metadata": {},
   "outputs": [
    {
     "data": {
      "text/plain": [
       "defaultdict(list, {2: [1]})"
      ]
     },
     "execution_count": 53,
     "metadata": {},
     "output_type": "execute_result"
    }
   ],
   "source": [
    "dd_list"
   ]
  },
  {
   "cell_type": "code",
   "execution_count": 54,
   "id": "1a1da65d-eea1-4a67-9cf5-17e1af6f0e8c",
   "metadata": {},
   "outputs": [
    {
     "data": {
      "text/plain": [
       "defaultdict(list, {2: [1, 2, 3, 4, 5]})"
      ]
     },
     "execution_count": 54,
     "metadata": {},
     "output_type": "execute_result"
    }
   ],
   "source": [
    "dd_list[2].extend([2, 3, 4, 5])\n",
    "dd_list"
   ]
  },
  {
   "cell_type": "markdown",
   "id": "3f934925-dfe3-4c9e-b0d7-109fffc4acfd",
   "metadata": {},
   "source": [
    "# Counters"
   ]
  },
  {
   "cell_type": "markdown",
   "id": "bd24e60d-4c23-42c4-9baa-be39744fd717",
   "metadata": {},
   "source": [
    "* A `Counter` turns a sequence of values into a -like object mapping keys to counts:"
   ]
  },
  {
   "cell_type": "code",
   "execution_count": 55,
   "id": "a85abe61-3ed6-4a79-bc5d-406e7890ecb7",
   "metadata": {},
   "outputs": [
    {
     "data": {
      "text/plain": [
       "Counter({0: 2, 1: 2, 2: 1})"
      ]
     },
     "execution_count": 55,
     "metadata": {},
     "output_type": "execute_result"
    }
   ],
   "source": [
    "from collections import Counter\n",
    "c = Counter([0, 1, 1, 2, 0])\n",
    "c"
   ]
  },
  {
   "cell_type": "markdown",
   "id": "8fa9e6a9-4be5-4a48-9f09-554d628cdf7a",
   "metadata": {},
   "source": [
    "# Sets"
   ]
  },
  {
   "cell_type": "markdown",
   "id": "1c1fdbe0-fb72-404f-823f-532fd90f85a2",
   "metadata": {},
   "source": [
    "* Another useful data structure is set, which represents a collection of distinct elements. You can define a set by listing its elements between curly braces:"
   ]
  },
  {
   "cell_type": "code",
   "execution_count": 56,
   "id": "1c7e7187-c36f-444d-8d6f-e79840f7cede",
   "metadata": {},
   "outputs": [
    {
     "data": {
      "text/plain": [
       "{1, 2, 3, 4, 5, 6, 7, 8}"
      ]
     },
     "execution_count": 56,
     "metadata": {},
     "output_type": "execute_result"
    }
   ],
   "source": [
    "nums = {1, 1, 2, 3, 4, 5, 6, 7, 7, 8}\n",
    "nums"
   ]
  },
  {
   "cell_type": "code",
   "execution_count": 57,
   "id": "237e1475-ab5c-4a80-9473-3661497d3cfc",
   "metadata": {},
   "outputs": [],
   "source": [
    "s = set()\n",
    "s.add(1)\n",
    "s.add(2)\n",
    "s.add(2)\n",
    "x = len(s)"
   ]
  },
  {
   "cell_type": "code",
   "execution_count": 58,
   "id": "65fd7e8e-14f1-4d03-9348-3c3cdb23a83c",
   "metadata": {},
   "outputs": [
    {
     "data": {
      "text/plain": [
       "2"
      ]
     },
     "execution_count": 58,
     "metadata": {},
     "output_type": "execute_result"
    }
   ],
   "source": [
    "x"
   ]
  },
  {
   "cell_type": "code",
   "execution_count": 59,
   "id": "df7e49e4-5457-4695-94ee-e74299a5fa57",
   "metadata": {},
   "outputs": [
    {
     "data": {
      "text/plain": [
       "True"
      ]
     },
     "execution_count": 59,
     "metadata": {},
     "output_type": "execute_result"
    }
   ],
   "source": [
    "y = 2 in s\n",
    "y"
   ]
  },
  {
   "cell_type": "code",
   "execution_count": 60,
   "id": "7ba6f3e3-5075-4045-88f3-5f5504645121",
   "metadata": {},
   "outputs": [
    {
     "data": {
      "text/plain": [
       "False"
      ]
     },
     "execution_count": 60,
     "metadata": {},
     "output_type": "execute_result"
    }
   ],
   "source": [
    "z = 3 in s\n",
    "z"
   ]
  },
  {
   "cell_type": "markdown",
   "id": "98ad2062-3e75-43c8-b088-0329b44a384e",
   "metadata": {},
   "source": [
    "# Control flow"
   ]
  },
  {
   "cell_type": "code",
   "execution_count": 61,
   "id": "ad8bbf40-b0df-477c-8e22-5d6497da1f36",
   "metadata": {},
   "outputs": [
    {
     "name": "stdout",
     "output_type": "stream",
     "text": [
      "World!\n"
     ]
    }
   ],
   "source": [
    "if 1 > 2:\n",
    "    print('Hello')\n",
    "else:\n",
    "    print('World!')"
   ]
  },
  {
   "cell_type": "code",
   "execution_count": 62,
   "id": "4d62a172-8fd5-4971-8121-3d9f12da6d99",
   "metadata": {},
   "outputs": [
    {
     "name": "stdout",
     "output_type": "stream",
     "text": [
      "10\n",
      "9\n",
      "8\n",
      "7\n",
      "6\n",
      "5\n",
      "4\n",
      "3\n",
      "2\n",
      "1\n"
     ]
    }
   ],
   "source": [
    "x = 10\n",
    "while x:\n",
    "    print(x)\n",
    "    x -= 1\n",
    "    "
   ]
  },
  {
   "cell_type": "code",
   "execution_count": 63,
   "id": "95459551-dea9-4171-950b-1ceb852c3865",
   "metadata": {},
   "outputs": [
    {
     "name": "stdout",
     "output_type": "stream",
     "text": [
      "0\n",
      "1\n",
      "2\n",
      "3\n",
      "4\n",
      "5\n",
      "6\n",
      "7\n",
      "8\n",
      "9\n"
     ]
    }
   ],
   "source": [
    "for i in range(10):\n",
    "    print(i)"
   ]
  },
  {
   "cell_type": "markdown",
   "id": "b82adebd-fe36-406c-977f-48884388d041",
   "metadata": {},
   "source": [
    "# Truthiness"
   ]
  },
  {
   "cell_type": "code",
   "execution_count": 64,
   "id": "5605b511-2021-4513-b8ff-1b3ccafcbab4",
   "metadata": {},
   "outputs": [
    {
     "data": {
      "text/plain": [
       "True"
      ]
     },
     "execution_count": 64,
     "metadata": {},
     "output_type": "execute_result"
    }
   ],
   "source": [
    "1 < 2"
   ]
  },
  {
   "cell_type": "code",
   "execution_count": 65,
   "id": "6f9e3e1a-cb6c-4625-8640-0819f3f89801",
   "metadata": {},
   "outputs": [
    {
     "data": {
      "text/plain": [
       "True"
      ]
     },
     "execution_count": 65,
     "metadata": {},
     "output_type": "execute_result"
    }
   ],
   "source": [
    "2 == 2"
   ]
  },
  {
   "cell_type": "code",
   "execution_count": 66,
   "id": "6a3cd23c-f719-4651-b154-00f057b71766",
   "metadata": {},
   "outputs": [
    {
     "data": {
      "text/plain": [
       "False"
      ]
     },
     "execution_count": 66,
     "metadata": {},
     "output_type": "execute_result"
    }
   ],
   "source": [
    "2 > 3"
   ]
  },
  {
   "cell_type": "code",
   "execution_count": 67,
   "id": "73a78535-f7b7-48d0-9ed0-81d03e5e34ae",
   "metadata": {},
   "outputs": [],
   "source": [
    "x = None\n",
    "assert x is None"
   ]
  },
  {
   "cell_type": "code",
   "execution_count": 68,
   "id": "6c7c0300-4541-416d-8f71-4250f15a96d4",
   "metadata": {},
   "outputs": [],
   "source": [
    "x"
   ]
  },
  {
   "cell_type": "code",
   "execution_count": 69,
   "id": "d1ae18b6-3705-40e5-a4e7-e37f6616dcb0",
   "metadata": {},
   "outputs": [],
   "source": [
    "safe_x = x if x is not None else 1"
   ]
  },
  {
   "cell_type": "code",
   "execution_count": 70,
   "id": "da3399fc-b8af-46be-8d19-bbb7a25dfc28",
   "metadata": {},
   "outputs": [
    {
     "data": {
      "text/plain": [
       "1"
      ]
     },
     "execution_count": 70,
     "metadata": {},
     "output_type": "execute_result"
    }
   ],
   "source": [
    "safe_x"
   ]
  },
  {
   "cell_type": "markdown",
   "id": "c59a67f9-92d5-4a2b-8f01-861dbbeb5ae0",
   "metadata": {},
   "source": [
    "# Sorting"
   ]
  },
  {
   "cell_type": "code",
   "execution_count": 71,
   "id": "05299441-dc2b-4a19-b216-dd3ebc560853",
   "metadata": {},
   "outputs": [
    {
     "data": {
      "text/plain": [
       "[1, 2, 3, 4, 5]"
      ]
     },
     "execution_count": 71,
     "metadata": {},
     "output_type": "execute_result"
    }
   ],
   "source": [
    "x = [3, 1, 2, 4, 5]\n",
    "y = sorted(x) # x remains unchanged\n",
    "y"
   ]
  },
  {
   "cell_type": "code",
   "execution_count": 72,
   "id": "681e8f1e-a400-4aa9-8b2c-6b70ec822d2b",
   "metadata": {},
   "outputs": [
    {
     "data": {
      "text/plain": [
       "[3, 1, 2, 4, 5]"
      ]
     },
     "execution_count": 72,
     "metadata": {},
     "output_type": "execute_result"
    }
   ],
   "source": [
    "x"
   ]
  },
  {
   "cell_type": "markdown",
   "id": "8b0a1d51-cf0a-4719-9635-4e8db32818ba",
   "metadata": {},
   "source": [
    "* Sort in place"
   ]
  },
  {
   "cell_type": "code",
   "execution_count": 73,
   "id": "638e7594-9e6e-476b-ac31-f8ef22313937",
   "metadata": {},
   "outputs": [
    {
     "data": {
      "text/plain": [
       "[1, 2, 3, 4, 5]"
      ]
     },
     "execution_count": 73,
     "metadata": {},
     "output_type": "execute_result"
    }
   ],
   "source": [
    "x.sort()\n",
    "x"
   ]
  },
  {
   "cell_type": "markdown",
   "id": "3f42e115-48ad-4a74-beec-d265d9c403a3",
   "metadata": {},
   "source": [
    "# List comprehensions"
   ]
  },
  {
   "cell_type": "code",
   "execution_count": 74,
   "id": "6516c541-9c60-4431-82d2-fe5f57f0e17f",
   "metadata": {},
   "outputs": [
    {
     "data": {
      "text/plain": [
       "[0, 2, 4, 6, 8]"
      ]
     },
     "execution_count": 74,
     "metadata": {},
     "output_type": "execute_result"
    }
   ],
   "source": [
    "even_nums = [x for x in range(10) if x % 2 == 0]\n",
    "even_nums"
   ]
  },
  {
   "cell_type": "code",
   "execution_count": 75,
   "id": "7e548e3b-a836-4095-9931-fd619b3d4417",
   "metadata": {},
   "outputs": [
    {
     "data": {
      "text/plain": [
       "[0, 4, 16, 36, 64]"
      ]
     },
     "execution_count": 75,
     "metadata": {},
     "output_type": "execute_result"
    }
   ],
   "source": [
    "even_squares = [x**2 for x in range(10) if x % 2 == 0]\n",
    "even_squares"
   ]
  },
  {
   "cell_type": "code",
   "execution_count": 76,
   "id": "2f0ba4f6-92cf-4ce9-92d5-cb18cb1e7082",
   "metadata": {},
   "outputs": [
    {
     "data": {
      "text/plain": [
       "{0: 0, 1: 1, 2: 4, 3: 9, 4: 16}"
      ]
     },
     "execution_count": 76,
     "metadata": {},
     "output_type": "execute_result"
    }
   ],
   "source": [
    "square_dict = {x: x**2 for x in range(5)}\n",
    "square_dict"
   ]
  },
  {
   "cell_type": "code",
   "execution_count": 77,
   "id": "4782ba22-d3a4-4b9c-9b4e-df1fc8baa47b",
   "metadata": {},
   "outputs": [
    {
     "data": {
      "text/plain": [
       "[0, 0, 0, 0, 0]"
      ]
     },
     "execution_count": 77,
     "metadata": {},
     "output_type": "execute_result"
    }
   ],
   "source": [
    "zeros = [0 for _ in even_nums]\n",
    "zeros"
   ]
  },
  {
   "cell_type": "code",
   "execution_count": 78,
   "id": "687b08ef-d6a6-445a-b779-20280ba5f6b9",
   "metadata": {},
   "outputs": [],
   "source": [
    "pairs = [\n",
    "    (x, y)\n",
    "    for x in range(5)\n",
    "    for y in range(5, 10)\n",
    "]"
   ]
  },
  {
   "cell_type": "code",
   "execution_count": 79,
   "id": "ccdc3ef2-e024-470f-ab2c-f7fd57959566",
   "metadata": {},
   "outputs": [
    {
     "data": {
      "text/plain": [
       "[1, 2, 3, 4, 5]"
      ]
     },
     "execution_count": 79,
     "metadata": {},
     "output_type": "execute_result"
    }
   ],
   "source": [
    "x"
   ]
  },
  {
   "cell_type": "code",
   "execution_count": 80,
   "id": "6da37eb7-4baa-47c5-b634-1d41f6adbd63",
   "metadata": {},
   "outputs": [
    {
     "data": {
      "text/plain": [
       "[1, 2, 3, 4, 5]"
      ]
     },
     "execution_count": 80,
     "metadata": {},
     "output_type": "execute_result"
    }
   ],
   "source": [
    "y"
   ]
  },
  {
   "cell_type": "code",
   "execution_count": 81,
   "id": "415f8879-c25a-40c4-9492-b238d787ca74",
   "metadata": {},
   "outputs": [
    {
     "data": {
      "text/plain": [
       "[(0, 5),\n",
       " (0, 6),\n",
       " (0, 7),\n",
       " (0, 8),\n",
       " (0, 9),\n",
       " (1, 5),\n",
       " (1, 6),\n",
       " (1, 7),\n",
       " (1, 8),\n",
       " (1, 9),\n",
       " (2, 5),\n",
       " (2, 6),\n",
       " (2, 7),\n",
       " (2, 8),\n",
       " (2, 9),\n",
       " (3, 5),\n",
       " (3, 6),\n",
       " (3, 7),\n",
       " (3, 8),\n",
       " (3, 9),\n",
       " (4, 5),\n",
       " (4, 6),\n",
       " (4, 7),\n",
       " (4, 8),\n",
       " (4, 9)]"
      ]
     },
     "execution_count": 81,
     "metadata": {},
     "output_type": "execute_result"
    }
   ],
   "source": [
    "pairs"
   ]
  },
  {
   "cell_type": "markdown",
   "id": "02cac5ce-ea74-4351-91fe-ac89b934d7bc",
   "metadata": {},
   "source": [
    "# Automated testing and assert"
   ]
  },
  {
   "cell_type": "code",
   "execution_count": 82,
   "id": "07c0fed8-ee2b-4983-90d1-336b45953b6a",
   "metadata": {},
   "outputs": [],
   "source": [
    "assert 1 + 1 == 2"
   ]
  },
  {
   "cell_type": "code",
   "execution_count": 83,
   "id": "34f63bcf-ba2e-4826-8b2b-6513148f539e",
   "metadata": {},
   "outputs": [],
   "source": [
    "assert 1 + 1 == 2, '1 + 1 should equal 2 but did not'"
   ]
  },
  {
   "cell_type": "code",
   "execution_count": 84,
   "id": "7d661e2b-23aa-4fd9-920e-9a4e320c837e",
   "metadata": {},
   "outputs": [
    {
     "ename": "AssertionError",
     "evalue": "5 is not the smallest element in the the list",
     "output_type": "error",
     "traceback": [
      "\u001b[0;31m---------------------------------------------------------------------------\u001b[0m",
      "\u001b[0;31mAssertionError\u001b[0m                            Traceback (most recent call last)",
      "Cell \u001b[0;32mIn[84], line 4\u001b[0m\n\u001b[1;32m      1\u001b[0m \u001b[38;5;28;01mdef\u001b[39;00m \u001b[38;5;21msmallest_item\u001b[39m(x):\n\u001b[1;32m      2\u001b[0m     \u001b[38;5;28;01mreturn\u001b[39;00m \u001b[38;5;28mmin\u001b[39m(x)\n\u001b[0;32m----> 4\u001b[0m \u001b[38;5;28;01massert\u001b[39;00m smallest_item([\u001b[38;5;241m1\u001b[39m, \u001b[38;5;241m2\u001b[39m, \u001b[38;5;241m3\u001b[39m, \u001b[38;5;241m4\u001b[39m, \u001b[38;5;241m5\u001b[39m]) \u001b[38;5;241m==\u001b[39m \u001b[38;5;241m5\u001b[39m, \u001b[38;5;124m'\u001b[39m\u001b[38;5;124m5 is not the smallest element in the the list\u001b[39m\u001b[38;5;124m'\u001b[39m\n",
      "\u001b[0;31mAssertionError\u001b[0m: 5 is not the smallest element in the the list"
     ]
    }
   ],
   "source": [
    "def smallest_item(x):\n",
    "    return min(x)\n",
    "\n",
    "assert smallest_item([1, 2, 3, 4, 5]) == 5, '5 is not the smallest element in the the list'"
   ]
  },
  {
   "cell_type": "markdown",
   "id": "fa13c16b-5df6-4044-97be-cc5a1a4b0b8d",
   "metadata": {},
   "source": [
    "# Object oriented programming"
   ]
  },
  {
   "cell_type": "code",
   "execution_count": 85,
   "id": "4723d7af-c682-46a6-b530-7a58d8b0a43b",
   "metadata": {},
   "outputs": [],
   "source": [
    "class CountingClicker:\n",
    "\n",
    "    def __init__(self, count = 0):\n",
    "        self.count = count\n",
    "\n",
    "\n",
    "\n",
    "clicker1 = CountingClicker()\n",
    "clicker2 = CountingClicker(100)\n",
    "clicker3 = CountingClicker(count=50)"
   ]
  },
  {
   "cell_type": "code",
   "execution_count": 86,
   "id": "fc500038-6dd4-40c5-9562-934d5426577d",
   "metadata": {},
   "outputs": [
    {
     "data": {
      "text/plain": [
       "<__main__.CountingClicker at 0x10fcc0b00>"
      ]
     },
     "execution_count": 86,
     "metadata": {},
     "output_type": "execute_result"
    }
   ],
   "source": [
    "clicker1"
   ]
  },
  {
   "cell_type": "code",
   "execution_count": 87,
   "id": "60918989-c809-4c11-b75c-2849adcd29c2",
   "metadata": {},
   "outputs": [
    {
     "data": {
      "text/plain": [
       "<__main__.CountingClicker at 0x10fcc2ae0>"
      ]
     },
     "execution_count": 87,
     "metadata": {},
     "output_type": "execute_result"
    }
   ],
   "source": [
    "clicker2"
   ]
  },
  {
   "cell_type": "code",
   "execution_count": 88,
   "id": "c1a829b5-5af4-4012-bd7e-1aa83ec9d7ec",
   "metadata": {},
   "outputs": [
    {
     "data": {
      "text/plain": [
       "<__main__.CountingClicker at 0x10fcc2600>"
      ]
     },
     "execution_count": 88,
     "metadata": {},
     "output_type": "execute_result"
    }
   ],
   "source": [
    "clicker3"
   ]
  },
  {
   "cell_type": "markdown",
   "id": "5aad3f3c-6f31-41ac-8f6a-d94364d1d697",
   "metadata": {},
   "source": [
    "# Iterables and Generators"
   ]
  },
  {
   "cell_type": "code",
   "execution_count": 94,
   "id": "c1855f0d-61fb-4d1e-9db5-bbdaa50fd858",
   "metadata": {},
   "outputs": [
    {
     "name": "stdout",
     "output_type": "stream",
     "text": [
      "Name 0 is Alex\n",
      "Name 1 is John\n",
      "Name 2 is Sarah\n"
     ]
    }
   ],
   "source": [
    "names = ['Alex', 'John', 'Sarah']\n",
    "for i, name in enumerate(names):\n",
    "    print(f'Name {i} is {name}')"
   ]
  },
  {
   "cell_type": "markdown",
   "id": "121d4fb8-cd61-43ab-a612-ca63afd184bc",
   "metadata": {},
   "source": [
    "# Randomness"
   ]
  },
  {
   "cell_type": "code",
   "execution_count": 106,
   "id": "b45e6b3f-e82a-43d6-a75a-5a51ca348a77",
   "metadata": {},
   "outputs": [],
   "source": [
    "import random"
   ]
  },
  {
   "cell_type": "code",
   "execution_count": 108,
   "id": "2db8866c-bb72-49a1-a549-27efd02de0e5",
   "metadata": {},
   "outputs": [
    {
     "data": {
      "text/plain": [
       "[0.5714025946899135,\n",
       " 0.4288890546751146,\n",
       " 0.5780913011344704,\n",
       " 0.20609823213950174]"
      ]
     },
     "execution_count": 108,
     "metadata": {},
     "output_type": "execute_result"
    }
   ],
   "source": [
    "random.seed(10) # this ensures we get the same results every time\n",
    "four_uniform_numbers = [random.random() for _ in range(4)]\n",
    "four_uniform_numbers"
   ]
  },
  {
   "cell_type": "code",
   "execution_count": 117,
   "id": "83a4af6d-637e-40a9-8048-3b5dd2293bf8",
   "metadata": {},
   "outputs": [
    {
     "data": {
      "text/plain": [
       "3"
      ]
     },
     "execution_count": 117,
     "metadata": {},
     "output_type": "execute_result"
    }
   ],
   "source": [
    "random.randrange(10) # chose randomly from range(0 to 9)"
   ]
  },
  {
   "cell_type": "code",
   "execution_count": 120,
   "id": "db1fcd28-44f5-44f0-b353-e5f6dc66becd",
   "metadata": {},
   "outputs": [
    {
     "data": {
      "text/plain": [
       "[10, 3, 6, 2, 9, 5, 1, 7, 8, 4]"
      ]
     },
     "execution_count": 120,
     "metadata": {},
     "output_type": "execute_result"
    }
   ],
   "source": [
    "up_to_ten = [1, 2, 3, 4, 5, 6, 7, 8, 9, 10]\n",
    "random.shuffle(up_to_ten) # shuffles the list\n",
    "up_to_ten"
   ]
  },
  {
   "cell_type": "code",
   "execution_count": 124,
   "id": "5b8229f7-ca96-4b41-8a4c-d3aac33ec82f",
   "metadata": {},
   "outputs": [
    {
     "data": {
      "text/plain": [
       "'Alex'"
      ]
     },
     "execution_count": 124,
     "metadata": {},
     "output_type": "execute_result"
    }
   ],
   "source": [
    "# random choice\n",
    "my_best_friend = random.choice(['Alex', 'John', 'Sarah'])\n",
    "my_best_friend"
   ]
  },
  {
   "cell_type": "markdown",
   "id": "ede84c8a-d5fa-4b7f-82f6-1945f9ad2feb",
   "metadata": {},
   "source": [
    "# Regular expressions"
   ]
  },
  {
   "cell_type": "markdown",
   "id": "1735897b-7e9c-4e69-8ec0-d495606a9676",
   "metadata": {},
   "source": [
    "* Regular expressions provide a way of searching text. They are incredibly useful, but also fairly complicated—so much so that there are entire books written about them."
   ]
  },
  {
   "cell_type": "code",
   "execution_count": 129,
   "id": "56b19836-9dea-448b-9c94-a0839e6a3354",
   "metadata": {},
   "outputs": [],
   "source": [
    "import re\n",
    "\n",
    "re_examples = [\n",
    "    not re.match('a', 'cat'),  # 'cat' doesn't start with 'a'\n",
    "    re.search('a', 'cat'),      # 'cat' has an 'a' in it\n",
    "    not re.search('c', 'dog'),  # 'dog' doesn't have a 'c' in it\n",
    "    3 == len(re.split('[ab]', 'carbs')),  # split on 'a' or 'b' to ['c', 'r', 's']\n",
    "    'R-D-' == re.sub('[0-9]', '-', 'R2D2')  # replace digits with dashes\n",
    "]\n",
    "\n",
    "assert all(re_examples)  # all the regex examples should be True\n"
   ]
  },
  {
   "cell_type": "code",
   "execution_count": 130,
   "id": "91c2460a-7eb3-4d33-a57a-a33d90cf532c",
   "metadata": {},
   "outputs": [
    {
     "data": {
      "text/plain": [
       "[True, <re.Match object; span=(1, 2), match='a'>, True, True, True]"
      ]
     },
     "execution_count": 130,
     "metadata": {},
     "output_type": "execute_result"
    }
   ],
   "source": [
    "re_examples"
   ]
  },
  {
   "cell_type": "markdown",
   "id": "416a6bad-c1e4-48cf-82f2-a719970a1665",
   "metadata": {},
   "source": [
    "# Functional programming"
   ]
  },
  {
   "cell_type": "markdown",
   "id": "4e8c8299-6e72-4ff2-9c94-48b89a8207df",
   "metadata": {},
   "source": [
    "## zip and argument unpacking"
   ]
  },
  {
   "cell_type": "code",
   "execution_count": 132,
   "id": "32282b09-9b86-401b-9c2f-5916a975c90e",
   "metadata": {},
   "outputs": [
    {
     "data": {
      "text/plain": [
       "[('a', 1), ('b', 2), ('c', 3)]"
      ]
     },
     "execution_count": 132,
     "metadata": {},
     "output_type": "execute_result"
    }
   ],
   "source": [
    "list1 = ['a', 'b', 'c']\n",
    "list2 = [1, 2, 3]\n",
    "\n",
    "pair = [pair for pair in zip(list1, list2)]\n",
    "\n",
    "pair"
   ]
  },
  {
   "cell_type": "markdown",
   "id": "bb754065-1a30-4c2c-82eb-75d8e1bc346f",
   "metadata": {},
   "source": [
    "* unzipping"
   ]
  },
  {
   "cell_type": "code",
   "execution_count": 137,
   "id": "9040196a-c8db-4fbb-a2f2-9c6c7472cffc",
   "metadata": {},
   "outputs": [],
   "source": [
    "letters, numbers = zip(*pair)"
   ]
  },
  {
   "cell_type": "code",
   "execution_count": 138,
   "id": "18316e8f-adcc-44a9-8654-6f5d09b0926b",
   "metadata": {},
   "outputs": [
    {
     "data": {
      "text/plain": [
       "('a', 'b', 'c')"
      ]
     },
     "execution_count": 138,
     "metadata": {},
     "output_type": "execute_result"
    }
   ],
   "source": [
    "letters"
   ]
  },
  {
   "cell_type": "code",
   "execution_count": 139,
   "id": "f631bb8c-5d6f-4e01-872b-df07b4d687da",
   "metadata": {},
   "outputs": [
    {
     "data": {
      "text/plain": [
       "(1, 2, 3)"
      ]
     },
     "execution_count": 139,
     "metadata": {},
     "output_type": "execute_result"
    }
   ],
   "source": [
    "numbers"
   ]
  },
  {
   "cell_type": "markdown",
   "id": "e673a3c9-6b76-40ce-88a3-136248f20955",
   "metadata": {},
   "source": [
    "* Arugment unpacking"
   ]
  },
  {
   "cell_type": "code",
   "execution_count": 143,
   "id": "f7c2c284-6aa6-46a8-9995-09f828a010b5",
   "metadata": {},
   "outputs": [
    {
     "name": "stdout",
     "output_type": "stream",
     "text": [
      "add expects two inputs\n"
     ]
    }
   ],
   "source": [
    "def add(x, y):\n",
    "    try:\n",
    "        add([1, 2])\n",
    "    except TypeError:\n",
    "        print('add expects two inputs')\n",
    "\n",
    "add(*[1, 2])"
   ]
  },
  {
   "cell_type": "markdown",
   "id": "24d6aede-5e59-4d8b-a83d-45bd35705f50",
   "metadata": {},
   "source": [
    "## args and kwargs"
   ]
  },
  {
   "cell_type": "code",
   "execution_count": null,
   "id": "49512606-8591-4717-ad7b-9655f679e587",
   "metadata": {},
   "outputs": [],
   "source": [
    "def call_it_magic(*args, **kwargs):\n",
    "    print('unnamed args:', args)\n",
    "    print('keyword args:', kwargs)\n",
    "\n",
    "magic(1, 2, key='word', key)"
   ]
  }
 ],
 "metadata": {
  "kernelspec": {
   "display_name": "Python 3 (ipykernel)",
   "language": "python",
   "name": "python3"
  },
  "language_info": {
   "codemirror_mode": {
    "name": "ipython",
    "version": 3
   },
   "file_extension": ".py",
   "mimetype": "text/x-python",
   "name": "python",
   "nbconvert_exporter": "python",
   "pygments_lexer": "ipython3",
   "version": "3.12.2"
  }
 },
 "nbformat": 4,
 "nbformat_minor": 5
}
