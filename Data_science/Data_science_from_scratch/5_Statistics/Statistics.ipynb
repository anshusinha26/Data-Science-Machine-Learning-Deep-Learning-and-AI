{
 "cells": [
  {
   "cell_type": "markdown",
   "id": "0b091fd9-a28f-4640-8635-8eb1e47f9cf8",
   "metadata": {},
   "source": [
    "# Describing a single set of data"
   ]
  },
  {
   "cell_type": "code",
   "execution_count": 5,
   "id": "edf0a9ed-8752-4b4b-93c5-a38a58cb9f77",
   "metadata": {},
   "outputs": [],
   "source": [
    "import random\n",
    "random.seed(42)\n",
    "num_friends = [random.randint(1, 500) for i in range(200)]"
   ]
  },
  {
   "cell_type": "code",
   "execution_count": 7,
   "id": "a2016c88-2f93-4dad-866c-439281f1d7ea",
   "metadata": {},
   "outputs": [
    {
     "data": {
      "text/plain": [
       "[328,\n",
       " 58,\n",
       " 13,\n",
       " 380,\n",
       " 141,\n",
       " 126,\n",
       " 115,\n",
       " 72,\n",
       " 378,\n",
       " 53,\n",
       " 347,\n",
       " 380,\n",
       " 457,\n",
       " 280,\n",
       " 45,\n",
       " 303,\n",
       " 217,\n",
       " 17,\n",
       " 16,\n",
       " 48,\n",
       " 112,\n",
       " 120,\n",
       " 259,\n",
       " 309,\n",
       " 14,\n",
       " 288,\n",
       " 102,\n",
       " 367,\n",
       " 333,\n",
       " 360,\n",
       " 280,\n",
       " 215,\n",
       " 113,\n",
       " 230,\n",
       " 302,\n",
       " 143,\n",
       " 415,\n",
       " 446,\n",
       " 4,\n",
       " 389,\n",
       " 413,\n",
       " 82,\n",
       " 358,\n",
       " 217,\n",
       " 175,\n",
       " 143,\n",
       " 80,\n",
       " 111,\n",
       " 491,\n",
       " 391,\n",
       " 173,\n",
       " 53,\n",
       " 48,\n",
       " 195,\n",
       " 50,\n",
       " 184,\n",
       " 434,\n",
       " 177,\n",
       " 310,\n",
       " 136,\n",
       " 414,\n",
       " 23,\n",
       " 374,\n",
       " 236,\n",
       " 275,\n",
       " 64,\n",
       " 499,\n",
       " 473,\n",
       " 194,\n",
       " 41,\n",
       " 283,\n",
       " 151,\n",
       " 425,\n",
       " 322,\n",
       " 317,\n",
       " 454,\n",
       " 442,\n",
       " 186,\n",
       " 296,\n",
       " 99,\n",
       " 361,\n",
       " 36,\n",
       " 24,\n",
       " 339,\n",
       " 117,\n",
       " 396,\n",
       " 149,\n",
       " 41,\n",
       " 438,\n",
       " 120,\n",
       " 444,\n",
       " 52,\n",
       " 195,\n",
       " 143,\n",
       " 233,\n",
       " 326,\n",
       " 428,\n",
       " 187,\n",
       " 84,\n",
       " 190,\n",
       " 182,\n",
       " 108,\n",
       " 344,\n",
       " 137,\n",
       " 360,\n",
       " 480,\n",
       " 350,\n",
       " 332,\n",
       " 37,\n",
       " 312,\n",
       " 326,\n",
       " 88,\n",
       " 274,\n",
       " 374,\n",
       " 126,\n",
       " 84,\n",
       " 237,\n",
       " 195,\n",
       " 139,\n",
       " 474,\n",
       " 328,\n",
       " 353,\n",
       " 286,\n",
       " 113,\n",
       " 351,\n",
       " 167,\n",
       " 432,\n",
       " 394,\n",
       " 398,\n",
       " 29,\n",
       " 118,\n",
       " 421,\n",
       " 17,\n",
       " 413,\n",
       " 162,\n",
       " 206,\n",
       " 138,\n",
       " 34,\n",
       " 109,\n",
       " 468,\n",
       " 483,\n",
       " 291,\n",
       " 449,\n",
       " 368,\n",
       " 162,\n",
       " 109,\n",
       " 336,\n",
       " 256,\n",
       " 203,\n",
       " 453,\n",
       " 469,\n",
       " 330,\n",
       " 235,\n",
       " 74,\n",
       " 136,\n",
       " 72,\n",
       " 127,\n",
       " 382,\n",
       " 288,\n",
       " 276,\n",
       " 135,\n",
       " 383,\n",
       " 300,\n",
       " 220,\n",
       " 460,\n",
       " 299,\n",
       " 205,\n",
       " 186,\n",
       " 113,\n",
       " 71,\n",
       " 261,\n",
       " 253,\n",
       " 47,\n",
       " 387,\n",
       " 25,\n",
       " 441,\n",
       " 57,\n",
       " 79,\n",
       " 322,\n",
       " 82,\n",
       " 406,\n",
       " 349,\n",
       " 217,\n",
       " 306,\n",
       " 33,\n",
       " 198,\n",
       " 196,\n",
       " 306,\n",
       " 240,\n",
       " 271,\n",
       " 129,\n",
       " 498,\n",
       " 284,\n",
       " 441,\n",
       " 483,\n",
       " 6,\n",
       " 349,\n",
       " 370,\n",
       " 59,\n",
       " 350]"
      ]
     },
     "execution_count": 7,
     "metadata": {},
     "output_type": "execute_result"
    }
   ],
   "source": [
    "num_friends"
   ]
  },
  {
   "cell_type": "code",
   "execution_count": 13,
   "id": "cd6b2b64-3250-4327-88bc-bae81b66bd33",
   "metadata": {},
   "outputs": [],
   "source": [
    "num_points = len(num_friends)\n",
    "largest_val = max(num_friends)\n",
    "smallest_val = min(num_friends)\n",
    "\n",
    "sorted_val = sorted(num_friends)"
   ]
  },
  {
   "cell_type": "code",
   "execution_count": 14,
   "id": "99d72c98-fcb4-444d-9aa8-02605ab2d613",
   "metadata": {},
   "outputs": [
    {
     "data": {
      "text/plain": [
       "200"
      ]
     },
     "execution_count": 14,
     "metadata": {},
     "output_type": "execute_result"
    }
   ],
   "source": [
    "num_points"
   ]
  },
  {
   "cell_type": "code",
   "execution_count": 15,
   "id": "37a2f407-053f-4e1f-a4b3-faa4718647ad",
   "metadata": {},
   "outputs": [
    {
     "data": {
      "text/plain": [
       "499"
      ]
     },
     "execution_count": 15,
     "metadata": {},
     "output_type": "execute_result"
    }
   ],
   "source": [
    "largest_val"
   ]
  },
  {
   "cell_type": "code",
   "execution_count": 16,
   "id": "6da9ac3c-40ad-4876-915b-1c172f98dcc8",
   "metadata": {},
   "outputs": [
    {
     "data": {
      "text/plain": [
       "4"
      ]
     },
     "execution_count": 16,
     "metadata": {},
     "output_type": "execute_result"
    }
   ],
   "source": [
    "smallest_val"
   ]
  },
  {
   "cell_type": "code",
   "execution_count": 17,
   "id": "961e30c1-7bc6-41ee-af2a-435e4e545680",
   "metadata": {},
   "outputs": [
    {
     "data": {
      "text/plain": [
       "[4,\n",
       " 6,\n",
       " 13,\n",
       " 14,\n",
       " 16,\n",
       " 17,\n",
       " 17,\n",
       " 23,\n",
       " 24,\n",
       " 25,\n",
       " 29,\n",
       " 33,\n",
       " 34,\n",
       " 36,\n",
       " 37,\n",
       " 41,\n",
       " 41,\n",
       " 45,\n",
       " 47,\n",
       " 48,\n",
       " 48,\n",
       " 50,\n",
       " 52,\n",
       " 53,\n",
       " 53,\n",
       " 57,\n",
       " 58,\n",
       " 59,\n",
       " 64,\n",
       " 71,\n",
       " 72,\n",
       " 72,\n",
       " 74,\n",
       " 79,\n",
       " 80,\n",
       " 82,\n",
       " 82,\n",
       " 84,\n",
       " 84,\n",
       " 88,\n",
       " 99,\n",
       " 102,\n",
       " 108,\n",
       " 109,\n",
       " 109,\n",
       " 111,\n",
       " 112,\n",
       " 113,\n",
       " 113,\n",
       " 113,\n",
       " 115,\n",
       " 117,\n",
       " 118,\n",
       " 120,\n",
       " 120,\n",
       " 126,\n",
       " 126,\n",
       " 127,\n",
       " 129,\n",
       " 135,\n",
       " 136,\n",
       " 136,\n",
       " 137,\n",
       " 138,\n",
       " 139,\n",
       " 141,\n",
       " 143,\n",
       " 143,\n",
       " 143,\n",
       " 149,\n",
       " 151,\n",
       " 162,\n",
       " 162,\n",
       " 167,\n",
       " 173,\n",
       " 175,\n",
       " 177,\n",
       " 182,\n",
       " 184,\n",
       " 186,\n",
       " 186,\n",
       " 187,\n",
       " 190,\n",
       " 194,\n",
       " 195,\n",
       " 195,\n",
       " 195,\n",
       " 196,\n",
       " 198,\n",
       " 203,\n",
       " 205,\n",
       " 206,\n",
       " 215,\n",
       " 217,\n",
       " 217,\n",
       " 217,\n",
       " 220,\n",
       " 230,\n",
       " 233,\n",
       " 235,\n",
       " 236,\n",
       " 237,\n",
       " 240,\n",
       " 253,\n",
       " 256,\n",
       " 259,\n",
       " 261,\n",
       " 271,\n",
       " 274,\n",
       " 275,\n",
       " 276,\n",
       " 280,\n",
       " 280,\n",
       " 283,\n",
       " 284,\n",
       " 286,\n",
       " 288,\n",
       " 288,\n",
       " 291,\n",
       " 296,\n",
       " 299,\n",
       " 300,\n",
       " 302,\n",
       " 303,\n",
       " 306,\n",
       " 306,\n",
       " 309,\n",
       " 310,\n",
       " 312,\n",
       " 317,\n",
       " 322,\n",
       " 322,\n",
       " 326,\n",
       " 326,\n",
       " 328,\n",
       " 328,\n",
       " 330,\n",
       " 332,\n",
       " 333,\n",
       " 336,\n",
       " 339,\n",
       " 344,\n",
       " 347,\n",
       " 349,\n",
       " 349,\n",
       " 350,\n",
       " 350,\n",
       " 351,\n",
       " 353,\n",
       " 358,\n",
       " 360,\n",
       " 360,\n",
       " 361,\n",
       " 367,\n",
       " 368,\n",
       " 370,\n",
       " 374,\n",
       " 374,\n",
       " 378,\n",
       " 380,\n",
       " 380,\n",
       " 382,\n",
       " 383,\n",
       " 387,\n",
       " 389,\n",
       " 391,\n",
       " 394,\n",
       " 396,\n",
       " 398,\n",
       " 406,\n",
       " 413,\n",
       " 413,\n",
       " 414,\n",
       " 415,\n",
       " 421,\n",
       " 425,\n",
       " 428,\n",
       " 432,\n",
       " 434,\n",
       " 438,\n",
       " 441,\n",
       " 441,\n",
       " 442,\n",
       " 444,\n",
       " 446,\n",
       " 449,\n",
       " 453,\n",
       " 454,\n",
       " 457,\n",
       " 460,\n",
       " 468,\n",
       " 469,\n",
       " 473,\n",
       " 474,\n",
       " 480,\n",
       " 483,\n",
       " 483,\n",
       " 491,\n",
       " 498,\n",
       " 499]"
      ]
     },
     "execution_count": 17,
     "metadata": {},
     "output_type": "execute_result"
    }
   ],
   "source": [
    "sorted_val"
   ]
  },
  {
   "cell_type": "markdown",
   "id": "ac1809af-ad4b-435c-8b14-a26296403dc2",
   "metadata": {},
   "source": [
    "# Central tendencies"
   ]
  },
  {
   "cell_type": "markdown",
   "id": "9ea8a163-cc3f-41d4-9b64-69fa5eedf309",
   "metadata": {},
   "source": [
    "* Usually, we’ll want some notion of where our data is centered. Most commonly we’ll use the mean (or average), which is just the sum of the data divided by its count:"
   ]
  },
  {
   "cell_type": "code",
   "execution_count": 18,
   "id": "9cfc72be-7620-4314-af8c-3ebbdea7ab02",
   "metadata": {},
   "outputs": [
    {
     "name": "stdout",
     "output_type": "stream",
     "text": [
      "239.395\n"
     ]
    }
   ],
   "source": [
    "def mean(arr):\n",
    "    return sum(arr) / len(arr)\n",
    "\n",
    "print(mean(num_friends))"
   ]
  },
  {
   "cell_type": "markdown",
   "id": "33c49969-b799-4cd5-977d-8b0a93e44e6e",
   "metadata": {},
   "source": [
    "* median"
   ]
  },
  {
   "cell_type": "code",
   "execution_count": 19,
   "id": "62ded1b8-0d8d-4cb2-a103-78d451c510f0",
   "metadata": {},
   "outputs": [
    {
     "name": "stdout",
     "output_type": "stream",
     "text": [
      "236\n"
     ]
    }
   ],
   "source": [
    "def median_odd(arr):\n",
    "    return sorted(arr)[len(arr)//2]"
   ]
  },
  {
   "cell_type": "code",
   "execution_count": 21,
   "id": "ad29bd6c-f1d5-403f-9d6d-35869edb98a4",
   "metadata": {},
   "outputs": [
    {
     "name": "stdout",
     "output_type": "stream",
     "text": [
      "235.5\n"
     ]
    }
   ],
   "source": [
    "def median_even(arr):\n",
    "    sorted_arr = sorted(arr)\n",
    "    high_midpoint = len(arr) // 2\n",
    "    low_midpoint = high_midpoint - 1\n",
    "    return (sorted_arr[high_midpoint] + sorted_arr[low_midpoint]) / 2"
   ]
  },
  {
   "cell_type": "code",
   "execution_count": 24,
   "id": "feeaa9dd-5f10-4ebe-8bf5-27800261b028",
   "metadata": {},
   "outputs": [
    {
     "name": "stdout",
     "output_type": "stream",
     "text": [
      "235.5\n"
     ]
    }
   ],
   "source": [
    "def median(arr):\n",
    "    if len(arr) % 2 == 0:\n",
    "        return median_even(arr)\n",
    "    else:\n",
    "        return median_odd(arr)\n",
    "\n",
    "print(median(num_friends))"
   ]
  },
  {
   "cell_type": "markdown",
   "id": "92b37a74-fafa-4b42-b67b-7202ea753430",
   "metadata": {},
   "source": [
    "* mode (most common value)"
   ]
  },
  {
   "cell_type": "code",
   "execution_count": 26,
   "id": "b2e15511-9661-4bf7-bcd5-dd72d6c4c107",
   "metadata": {},
   "outputs": [
    {
     "name": "stdout",
     "output_type": "stream",
     "text": [
      "[217, 113, 143, 195]\n"
     ]
    }
   ],
   "source": [
    "from collections import Counter\n",
    "def mode(arr):\n",
    "    counts = Counter(arr)\n",
    "    max_count = max(counts.values())\n",
    "    return [i for i, count in counts.items() if count == max_count]\n",
    "\n",
    "print(mode(num_friends))"
   ]
  },
  {
   "cell_type": "markdown",
   "id": "b515cf52-cf76-4294-833c-a7286d49027d",
   "metadata": {},
   "source": [
    "# Dispersion"
   ]
  },
  {
   "cell_type": "markdown",
   "id": "1f122388-302e-4712-9d9e-644e5732d1da",
   "metadata": {},
   "source": [
    "* Dispersion refers to measures of how spread out our data is. Typically they’re statistics for which values near zero signify not spread out at all and for which large values (whatever that means) signify very spread out."
   ]
  },
  {
   "cell_type": "code",
   "execution_count": null,
   "id": "931c06ce-01c8-401a-9b93-7311c77c51dd",
   "metadata": {},
   "outputs": [],
   "source": []
  }
 ],
 "metadata": {
  "kernelspec": {
   "display_name": "Python 3 (ipykernel)",
   "language": "python",
   "name": "python3"
  },
  "language_info": {
   "codemirror_mode": {
    "name": "ipython",
    "version": 3
   },
   "file_extension": ".py",
   "mimetype": "text/x-python",
   "name": "python",
   "nbconvert_exporter": "python",
   "pygments_lexer": "ipython3",
   "version": "3.12.2"
  }
 },
 "nbformat": 4,
 "nbformat_minor": 5
}
