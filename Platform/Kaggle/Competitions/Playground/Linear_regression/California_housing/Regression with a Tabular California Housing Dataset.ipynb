{
 "cells": [
  {
   "cell_type": "markdown",
   "id": "380ce96d-bd02-4480-bd71-764077be6281",
   "metadata": {},
   "source": [
    "# 1. Import essential libraries"
   ]
  },
  {
   "cell_type": "code",
   "execution_count": 1,
   "id": "4fd6f54c-383d-4cc7-8cbe-79b27673a2da",
   "metadata": {},
   "outputs": [],
   "source": [
    "import pandas as pd\n",
    "import numpy as np\n",
    "import matplotlib.pyplot as plt"
   ]
  },
  {
   "cell_type": "markdown",
   "id": "87524f5b-2bea-4ead-81bd-5712fe97da65",
   "metadata": {},
   "source": [
    "# 2. Get the data"
   ]
  },
  {
   "cell_type": "code",
   "execution_count": 2,
   "id": "ef4b904f-eaaf-4191-bcf9-efbdd5501b01",
   "metadata": {},
   "outputs": [],
   "source": [
    "train = pd.read_csv('playground-series-s3e1/train.csv')\n",
    "test = pd.read_csv('playground-series-s3e1/test.csv')\n",
    "sample = pd.read_csv('playground-series-s3e1/sample_submission.csv')"
   ]
  },
  {
   "cell_type": "markdown",
   "id": "c2d0e000-9a4e-4334-bd4f-c2f861d8df81",
   "metadata": {},
   "source": [
    "* check the datas"
   ]
  },
  {
   "cell_type": "code",
   "execution_count": 3,
   "id": "8565dc87-3613-40a7-b766-840195686eb2",
   "metadata": {},
   "outputs": [
    {
     "data": {
      "text/html": [
       "<div>\n",
       "<style scoped>\n",
       "    .dataframe tbody tr th:only-of-type {\n",
       "        vertical-align: middle;\n",
       "    }\n",
       "\n",
       "    .dataframe tbody tr th {\n",
       "        vertical-align: top;\n",
       "    }\n",
       "\n",
       "    .dataframe thead th {\n",
       "        text-align: right;\n",
       "    }\n",
       "</style>\n",
       "<table border=\"1\" class=\"dataframe\">\n",
       "  <thead>\n",
       "    <tr style=\"text-align: right;\">\n",
       "      <th></th>\n",
       "      <th>id</th>\n",
       "      <th>MedInc</th>\n",
       "      <th>HouseAge</th>\n",
       "      <th>AveRooms</th>\n",
       "      <th>AveBedrms</th>\n",
       "      <th>Population</th>\n",
       "      <th>AveOccup</th>\n",
       "      <th>Latitude</th>\n",
       "      <th>Longitude</th>\n",
       "      <th>MedHouseVal</th>\n",
       "    </tr>\n",
       "  </thead>\n",
       "  <tbody>\n",
       "    <tr>\n",
       "      <th>0</th>\n",
       "      <td>0</td>\n",
       "      <td>2.3859</td>\n",
       "      <td>15.0</td>\n",
       "      <td>3.827160</td>\n",
       "      <td>1.112100</td>\n",
       "      <td>1280.0</td>\n",
       "      <td>2.486989</td>\n",
       "      <td>34.60</td>\n",
       "      <td>-120.12</td>\n",
       "      <td>0.980</td>\n",
       "    </tr>\n",
       "    <tr>\n",
       "      <th>1</th>\n",
       "      <td>1</td>\n",
       "      <td>3.7188</td>\n",
       "      <td>17.0</td>\n",
       "      <td>6.013373</td>\n",
       "      <td>1.054217</td>\n",
       "      <td>1504.0</td>\n",
       "      <td>3.813084</td>\n",
       "      <td>38.69</td>\n",
       "      <td>-121.22</td>\n",
       "      <td>0.946</td>\n",
       "    </tr>\n",
       "    <tr>\n",
       "      <th>2</th>\n",
       "      <td>2</td>\n",
       "      <td>4.7750</td>\n",
       "      <td>27.0</td>\n",
       "      <td>6.535604</td>\n",
       "      <td>1.103175</td>\n",
       "      <td>1061.0</td>\n",
       "      <td>2.464602</td>\n",
       "      <td>34.71</td>\n",
       "      <td>-120.45</td>\n",
       "      <td>1.576</td>\n",
       "    </tr>\n",
       "    <tr>\n",
       "      <th>3</th>\n",
       "      <td>3</td>\n",
       "      <td>2.4138</td>\n",
       "      <td>16.0</td>\n",
       "      <td>3.350203</td>\n",
       "      <td>0.965432</td>\n",
       "      <td>1255.0</td>\n",
       "      <td>2.089286</td>\n",
       "      <td>32.66</td>\n",
       "      <td>-117.09</td>\n",
       "      <td>1.336</td>\n",
       "    </tr>\n",
       "    <tr>\n",
       "      <th>4</th>\n",
       "      <td>4</td>\n",
       "      <td>3.7500</td>\n",
       "      <td>52.0</td>\n",
       "      <td>4.284404</td>\n",
       "      <td>1.069246</td>\n",
       "      <td>1793.0</td>\n",
       "      <td>1.604790</td>\n",
       "      <td>37.80</td>\n",
       "      <td>-122.41</td>\n",
       "      <td>4.500</td>\n",
       "    </tr>\n",
       "  </tbody>\n",
       "</table>\n",
       "</div>"
      ],
      "text/plain": [
       "   id  MedInc  HouseAge  AveRooms  AveBedrms  Population  AveOccup  Latitude  \\\n",
       "0   0  2.3859      15.0  3.827160   1.112100      1280.0  2.486989     34.60   \n",
       "1   1  3.7188      17.0  6.013373   1.054217      1504.0  3.813084     38.69   \n",
       "2   2  4.7750      27.0  6.535604   1.103175      1061.0  2.464602     34.71   \n",
       "3   3  2.4138      16.0  3.350203   0.965432      1255.0  2.089286     32.66   \n",
       "4   4  3.7500      52.0  4.284404   1.069246      1793.0  1.604790     37.80   \n",
       "\n",
       "   Longitude  MedHouseVal  \n",
       "0    -120.12        0.980  \n",
       "1    -121.22        0.946  \n",
       "2    -120.45        1.576  \n",
       "3    -117.09        1.336  \n",
       "4    -122.41        4.500  "
      ]
     },
     "execution_count": 3,
     "metadata": {},
     "output_type": "execute_result"
    }
   ],
   "source": [
    "train.head()"
   ]
  },
  {
   "cell_type": "code",
   "execution_count": 4,
   "id": "cecec2f9-5b3a-41ab-8dbf-3f259895af23",
   "metadata": {},
   "outputs": [
    {
     "data": {
      "text/html": [
       "<div>\n",
       "<style scoped>\n",
       "    .dataframe tbody tr th:only-of-type {\n",
       "        vertical-align: middle;\n",
       "    }\n",
       "\n",
       "    .dataframe tbody tr th {\n",
       "        vertical-align: top;\n",
       "    }\n",
       "\n",
       "    .dataframe thead th {\n",
       "        text-align: right;\n",
       "    }\n",
       "</style>\n",
       "<table border=\"1\" class=\"dataframe\">\n",
       "  <thead>\n",
       "    <tr style=\"text-align: right;\">\n",
       "      <th></th>\n",
       "      <th>id</th>\n",
       "      <th>MedInc</th>\n",
       "      <th>HouseAge</th>\n",
       "      <th>AveRooms</th>\n",
       "      <th>AveBedrms</th>\n",
       "      <th>Population</th>\n",
       "      <th>AveOccup</th>\n",
       "      <th>Latitude</th>\n",
       "      <th>Longitude</th>\n",
       "    </tr>\n",
       "  </thead>\n",
       "  <tbody>\n",
       "    <tr>\n",
       "      <th>0</th>\n",
       "      <td>37137</td>\n",
       "      <td>1.7062</td>\n",
       "      <td>35.0</td>\n",
       "      <td>4.966368</td>\n",
       "      <td>1.096539</td>\n",
       "      <td>1318.0</td>\n",
       "      <td>2.844411</td>\n",
       "      <td>39.75</td>\n",
       "      <td>-121.85</td>\n",
       "    </tr>\n",
       "    <tr>\n",
       "      <th>1</th>\n",
       "      <td>37138</td>\n",
       "      <td>1.3882</td>\n",
       "      <td>22.0</td>\n",
       "      <td>4.187035</td>\n",
       "      <td>1.098229</td>\n",
       "      <td>2296.0</td>\n",
       "      <td>3.180218</td>\n",
       "      <td>33.95</td>\n",
       "      <td>-118.29</td>\n",
       "    </tr>\n",
       "    <tr>\n",
       "      <th>2</th>\n",
       "      <td>37139</td>\n",
       "      <td>7.7197</td>\n",
       "      <td>21.0</td>\n",
       "      <td>7.129436</td>\n",
       "      <td>0.959276</td>\n",
       "      <td>1535.0</td>\n",
       "      <td>2.888889</td>\n",
       "      <td>33.61</td>\n",
       "      <td>-117.81</td>\n",
       "    </tr>\n",
       "    <tr>\n",
       "      <th>3</th>\n",
       "      <td>37140</td>\n",
       "      <td>4.6806</td>\n",
       "      <td>49.0</td>\n",
       "      <td>4.769697</td>\n",
       "      <td>1.048485</td>\n",
       "      <td>707.0</td>\n",
       "      <td>1.743590</td>\n",
       "      <td>34.17</td>\n",
       "      <td>-118.34</td>\n",
       "    </tr>\n",
       "    <tr>\n",
       "      <th>4</th>\n",
       "      <td>37141</td>\n",
       "      <td>3.1284</td>\n",
       "      <td>25.0</td>\n",
       "      <td>3.765306</td>\n",
       "      <td>1.081633</td>\n",
       "      <td>4716.0</td>\n",
       "      <td>2.003827</td>\n",
       "      <td>34.17</td>\n",
       "      <td>-118.29</td>\n",
       "    </tr>\n",
       "  </tbody>\n",
       "</table>\n",
       "</div>"
      ],
      "text/plain": [
       "      id  MedInc  HouseAge  AveRooms  AveBedrms  Population  AveOccup  \\\n",
       "0  37137  1.7062      35.0  4.966368   1.096539      1318.0  2.844411   \n",
       "1  37138  1.3882      22.0  4.187035   1.098229      2296.0  3.180218   \n",
       "2  37139  7.7197      21.0  7.129436   0.959276      1535.0  2.888889   \n",
       "3  37140  4.6806      49.0  4.769697   1.048485       707.0  1.743590   \n",
       "4  37141  3.1284      25.0  3.765306   1.081633      4716.0  2.003827   \n",
       "\n",
       "   Latitude  Longitude  \n",
       "0     39.75    -121.85  \n",
       "1     33.95    -118.29  \n",
       "2     33.61    -117.81  \n",
       "3     34.17    -118.34  \n",
       "4     34.17    -118.29  "
      ]
     },
     "execution_count": 4,
     "metadata": {},
     "output_type": "execute_result"
    }
   ],
   "source": [
    "test.head()"
   ]
  },
  {
   "cell_type": "code",
   "execution_count": 5,
   "id": "7aafa672-86af-41c9-a56a-1a4b7ec0fd96",
   "metadata": {},
   "outputs": [
    {
     "data": {
      "text/html": [
       "<div>\n",
       "<style scoped>\n",
       "    .dataframe tbody tr th:only-of-type {\n",
       "        vertical-align: middle;\n",
       "    }\n",
       "\n",
       "    .dataframe tbody tr th {\n",
       "        vertical-align: top;\n",
       "    }\n",
       "\n",
       "    .dataframe thead th {\n",
       "        text-align: right;\n",
       "    }\n",
       "</style>\n",
       "<table border=\"1\" class=\"dataframe\">\n",
       "  <thead>\n",
       "    <tr style=\"text-align: right;\">\n",
       "      <th></th>\n",
       "      <th>id</th>\n",
       "      <th>MedHouseVal</th>\n",
       "    </tr>\n",
       "  </thead>\n",
       "  <tbody>\n",
       "    <tr>\n",
       "      <th>0</th>\n",
       "      <td>37137</td>\n",
       "      <td>2.079751</td>\n",
       "    </tr>\n",
       "    <tr>\n",
       "      <th>1</th>\n",
       "      <td>37138</td>\n",
       "      <td>2.079751</td>\n",
       "    </tr>\n",
       "    <tr>\n",
       "      <th>2</th>\n",
       "      <td>37139</td>\n",
       "      <td>2.079751</td>\n",
       "    </tr>\n",
       "    <tr>\n",
       "      <th>3</th>\n",
       "      <td>37140</td>\n",
       "      <td>2.079751</td>\n",
       "    </tr>\n",
       "    <tr>\n",
       "      <th>4</th>\n",
       "      <td>37141</td>\n",
       "      <td>2.079751</td>\n",
       "    </tr>\n",
       "  </tbody>\n",
       "</table>\n",
       "</div>"
      ],
      "text/plain": [
       "      id  MedHouseVal\n",
       "0  37137     2.079751\n",
       "1  37138     2.079751\n",
       "2  37139     2.079751\n",
       "3  37140     2.079751\n",
       "4  37141     2.079751"
      ]
     },
     "execution_count": 5,
     "metadata": {},
     "output_type": "execute_result"
    }
   ],
   "source": [
    "sample.head()"
   ]
  },
  {
   "cell_type": "markdown",
   "id": "e063b849-b75e-431f-b801-d692a2395af3",
   "metadata": {},
   "source": [
    "* get the info"
   ]
  },
  {
   "cell_type": "code",
   "execution_count": 6,
   "id": "644821d1-6095-4593-b41d-339fc53d5a61",
   "metadata": {},
   "outputs": [
    {
     "name": "stdout",
     "output_type": "stream",
     "text": [
      "<class 'pandas.core.frame.DataFrame'>\n",
      "RangeIndex: 37137 entries, 0 to 37136\n",
      "Data columns (total 10 columns):\n",
      " #   Column       Non-Null Count  Dtype  \n",
      "---  ------       --------------  -----  \n",
      " 0   id           37137 non-null  int64  \n",
      " 1   MedInc       37137 non-null  float64\n",
      " 2   HouseAge     37137 non-null  float64\n",
      " 3   AveRooms     37137 non-null  float64\n",
      " 4   AveBedrms    37137 non-null  float64\n",
      " 5   Population   37137 non-null  float64\n",
      " 6   AveOccup     37137 non-null  float64\n",
      " 7   Latitude     37137 non-null  float64\n",
      " 8   Longitude    37137 non-null  float64\n",
      " 9   MedHouseVal  37137 non-null  float64\n",
      "dtypes: float64(9), int64(1)\n",
      "memory usage: 2.8 MB\n"
     ]
    }
   ],
   "source": [
    "train.info()"
   ]
  },
  {
   "cell_type": "code",
   "execution_count": 7,
   "id": "2c37b055-ba77-4609-85c4-40b3112ca68f",
   "metadata": {},
   "outputs": [
    {
     "name": "stdout",
     "output_type": "stream",
     "text": [
      "<class 'pandas.core.frame.DataFrame'>\n",
      "RangeIndex: 24759 entries, 0 to 24758\n",
      "Data columns (total 9 columns):\n",
      " #   Column      Non-Null Count  Dtype  \n",
      "---  ------      --------------  -----  \n",
      " 0   id          24759 non-null  int64  \n",
      " 1   MedInc      24759 non-null  float64\n",
      " 2   HouseAge    24759 non-null  float64\n",
      " 3   AveRooms    24759 non-null  float64\n",
      " 4   AveBedrms   24759 non-null  float64\n",
      " 5   Population  24759 non-null  float64\n",
      " 6   AveOccup    24759 non-null  float64\n",
      " 7   Latitude    24759 non-null  float64\n",
      " 8   Longitude   24759 non-null  float64\n",
      "dtypes: float64(8), int64(1)\n",
      "memory usage: 1.7 MB\n"
     ]
    }
   ],
   "source": [
    "test.info()"
   ]
  },
  {
   "cell_type": "markdown",
   "id": "60cdf1de-383c-45b2-a209-fd9a13d02b47",
   "metadata": {},
   "source": [
    "* get the statistical description"
   ]
  },
  {
   "cell_type": "code",
   "execution_count": 8,
   "id": "47d4ec7e-e093-4f19-bb7f-ad46f95d890d",
   "metadata": {},
   "outputs": [
    {
     "data": {
      "text/html": [
       "<div>\n",
       "<style scoped>\n",
       "    .dataframe tbody tr th:only-of-type {\n",
       "        vertical-align: middle;\n",
       "    }\n",
       "\n",
       "    .dataframe tbody tr th {\n",
       "        vertical-align: top;\n",
       "    }\n",
       "\n",
       "    .dataframe thead th {\n",
       "        text-align: right;\n",
       "    }\n",
       "</style>\n",
       "<table border=\"1\" class=\"dataframe\">\n",
       "  <thead>\n",
       "    <tr style=\"text-align: right;\">\n",
       "      <th></th>\n",
       "      <th>id</th>\n",
       "      <th>MedInc</th>\n",
       "      <th>HouseAge</th>\n",
       "      <th>AveRooms</th>\n",
       "      <th>AveBedrms</th>\n",
       "      <th>Population</th>\n",
       "      <th>AveOccup</th>\n",
       "      <th>Latitude</th>\n",
       "      <th>Longitude</th>\n",
       "      <th>MedHouseVal</th>\n",
       "    </tr>\n",
       "  </thead>\n",
       "  <tbody>\n",
       "    <tr>\n",
       "      <th>count</th>\n",
       "      <td>37137.00000</td>\n",
       "      <td>37137.000000</td>\n",
       "      <td>37137.000000</td>\n",
       "      <td>37137.000000</td>\n",
       "      <td>37137.000000</td>\n",
       "      <td>37137.000000</td>\n",
       "      <td>37137.000000</td>\n",
       "      <td>37137.000000</td>\n",
       "      <td>37137.000000</td>\n",
       "      <td>37137.000000</td>\n",
       "    </tr>\n",
       "    <tr>\n",
       "      <th>mean</th>\n",
       "      <td>18568.00000</td>\n",
       "      <td>3.851029</td>\n",
       "      <td>26.057005</td>\n",
       "      <td>5.163124</td>\n",
       "      <td>1.062204</td>\n",
       "      <td>1660.778919</td>\n",
       "      <td>2.831243</td>\n",
       "      <td>35.570030</td>\n",
       "      <td>-119.554329</td>\n",
       "      <td>2.079751</td>\n",
       "    </tr>\n",
       "    <tr>\n",
       "      <th>std</th>\n",
       "      <td>10720.67281</td>\n",
       "      <td>1.803167</td>\n",
       "      <td>12.158221</td>\n",
       "      <td>1.206242</td>\n",
       "      <td>0.096490</td>\n",
       "      <td>1302.469608</td>\n",
       "      <td>2.702413</td>\n",
       "      <td>2.083179</td>\n",
       "      <td>1.974028</td>\n",
       "      <td>1.158571</td>\n",
       "    </tr>\n",
       "    <tr>\n",
       "      <th>min</th>\n",
       "      <td>0.00000</td>\n",
       "      <td>0.499900</td>\n",
       "      <td>2.000000</td>\n",
       "      <td>0.851064</td>\n",
       "      <td>0.500000</td>\n",
       "      <td>3.000000</td>\n",
       "      <td>0.950000</td>\n",
       "      <td>32.550000</td>\n",
       "      <td>-124.350000</td>\n",
       "      <td>0.149990</td>\n",
       "    </tr>\n",
       "    <tr>\n",
       "      <th>25%</th>\n",
       "      <td>9284.00000</td>\n",
       "      <td>2.602300</td>\n",
       "      <td>17.000000</td>\n",
       "      <td>4.357522</td>\n",
       "      <td>1.020305</td>\n",
       "      <td>952.000000</td>\n",
       "      <td>2.394495</td>\n",
       "      <td>33.930000</td>\n",
       "      <td>-121.800000</td>\n",
       "      <td>1.208000</td>\n",
       "    </tr>\n",
       "    <tr>\n",
       "      <th>50%</th>\n",
       "      <td>18568.00000</td>\n",
       "      <td>3.515600</td>\n",
       "      <td>25.000000</td>\n",
       "      <td>5.068611</td>\n",
       "      <td>1.054545</td>\n",
       "      <td>1383.000000</td>\n",
       "      <td>2.744828</td>\n",
       "      <td>34.190000</td>\n",
       "      <td>-118.450000</td>\n",
       "      <td>1.808000</td>\n",
       "    </tr>\n",
       "    <tr>\n",
       "      <th>75%</th>\n",
       "      <td>27852.00000</td>\n",
       "      <td>4.699700</td>\n",
       "      <td>35.000000</td>\n",
       "      <td>5.858597</td>\n",
       "      <td>1.088825</td>\n",
       "      <td>1856.000000</td>\n",
       "      <td>3.125313</td>\n",
       "      <td>37.700000</td>\n",
       "      <td>-118.020000</td>\n",
       "      <td>2.660000</td>\n",
       "    </tr>\n",
       "    <tr>\n",
       "      <th>max</th>\n",
       "      <td>37136.00000</td>\n",
       "      <td>15.000100</td>\n",
       "      <td>52.000000</td>\n",
       "      <td>28.837607</td>\n",
       "      <td>5.873181</td>\n",
       "      <td>35682.000000</td>\n",
       "      <td>502.990610</td>\n",
       "      <td>41.950000</td>\n",
       "      <td>-114.550000</td>\n",
       "      <td>5.000010</td>\n",
       "    </tr>\n",
       "  </tbody>\n",
       "</table>\n",
       "</div>"
      ],
      "text/plain": [
       "                id        MedInc      HouseAge      AveRooms     AveBedrms  \\\n",
       "count  37137.00000  37137.000000  37137.000000  37137.000000  37137.000000   \n",
       "mean   18568.00000      3.851029     26.057005      5.163124      1.062204   \n",
       "std    10720.67281      1.803167     12.158221      1.206242      0.096490   \n",
       "min        0.00000      0.499900      2.000000      0.851064      0.500000   \n",
       "25%     9284.00000      2.602300     17.000000      4.357522      1.020305   \n",
       "50%    18568.00000      3.515600     25.000000      5.068611      1.054545   \n",
       "75%    27852.00000      4.699700     35.000000      5.858597      1.088825   \n",
       "max    37136.00000     15.000100     52.000000     28.837607      5.873181   \n",
       "\n",
       "         Population      AveOccup      Latitude     Longitude   MedHouseVal  \n",
       "count  37137.000000  37137.000000  37137.000000  37137.000000  37137.000000  \n",
       "mean    1660.778919      2.831243     35.570030   -119.554329      2.079751  \n",
       "std     1302.469608      2.702413      2.083179      1.974028      1.158571  \n",
       "min        3.000000      0.950000     32.550000   -124.350000      0.149990  \n",
       "25%      952.000000      2.394495     33.930000   -121.800000      1.208000  \n",
       "50%     1383.000000      2.744828     34.190000   -118.450000      1.808000  \n",
       "75%     1856.000000      3.125313     37.700000   -118.020000      2.660000  \n",
       "max    35682.000000    502.990610     41.950000   -114.550000      5.000010  "
      ]
     },
     "execution_count": 8,
     "metadata": {},
     "output_type": "execute_result"
    }
   ],
   "source": [
    "train.describe()"
   ]
  },
  {
   "cell_type": "code",
   "execution_count": 9,
   "id": "9e2ad2b4-d403-4469-95be-738fceeefce9",
   "metadata": {},
   "outputs": [
    {
     "data": {
      "text/html": [
       "<div>\n",
       "<style scoped>\n",
       "    .dataframe tbody tr th:only-of-type {\n",
       "        vertical-align: middle;\n",
       "    }\n",
       "\n",
       "    .dataframe tbody tr th {\n",
       "        vertical-align: top;\n",
       "    }\n",
       "\n",
       "    .dataframe thead th {\n",
       "        text-align: right;\n",
       "    }\n",
       "</style>\n",
       "<table border=\"1\" class=\"dataframe\">\n",
       "  <thead>\n",
       "    <tr style=\"text-align: right;\">\n",
       "      <th></th>\n",
       "      <th>id</th>\n",
       "      <th>MedInc</th>\n",
       "      <th>HouseAge</th>\n",
       "      <th>AveRooms</th>\n",
       "      <th>AveBedrms</th>\n",
       "      <th>Population</th>\n",
       "      <th>AveOccup</th>\n",
       "      <th>Latitude</th>\n",
       "      <th>Longitude</th>\n",
       "    </tr>\n",
       "  </thead>\n",
       "  <tbody>\n",
       "    <tr>\n",
       "      <th>count</th>\n",
       "      <td>24759.000000</td>\n",
       "      <td>24759.000000</td>\n",
       "      <td>24759.000000</td>\n",
       "      <td>24759.000000</td>\n",
       "      <td>24759.000000</td>\n",
       "      <td>24759.000000</td>\n",
       "      <td>24759.000000</td>\n",
       "      <td>24759.000000</td>\n",
       "      <td>24759.000000</td>\n",
       "    </tr>\n",
       "    <tr>\n",
       "      <th>mean</th>\n",
       "      <td>49516.000000</td>\n",
       "      <td>3.832618</td>\n",
       "      <td>26.041561</td>\n",
       "      <td>5.168789</td>\n",
       "      <td>1.063599</td>\n",
       "      <td>1679.327548</td>\n",
       "      <td>2.830808</td>\n",
       "      <td>35.598007</td>\n",
       "      <td>-119.570208</td>\n",
       "    </tr>\n",
       "    <tr>\n",
       "      <th>std</th>\n",
       "      <td>7147.451994</td>\n",
       "      <td>1.797503</td>\n",
       "      <td>12.177907</td>\n",
       "      <td>1.252874</td>\n",
       "      <td>0.123630</td>\n",
       "      <td>1365.598976</td>\n",
       "      <td>1.615320</td>\n",
       "      <td>2.097787</td>\n",
       "      <td>1.977200</td>\n",
       "    </tr>\n",
       "    <tr>\n",
       "      <th>min</th>\n",
       "      <td>37137.000000</td>\n",
       "      <td>0.499900</td>\n",
       "      <td>2.000000</td>\n",
       "      <td>1.000000</td>\n",
       "      <td>0.560000</td>\n",
       "      <td>3.000000</td>\n",
       "      <td>0.764706</td>\n",
       "      <td>32.550000</td>\n",
       "      <td>-124.230000</td>\n",
       "    </tr>\n",
       "    <tr>\n",
       "      <th>25%</th>\n",
       "      <td>43326.500000</td>\n",
       "      <td>2.590150</td>\n",
       "      <td>17.000000</td>\n",
       "      <td>4.356443</td>\n",
       "      <td>1.020460</td>\n",
       "      <td>955.000000</td>\n",
       "      <td>2.400000</td>\n",
       "      <td>33.930000</td>\n",
       "      <td>-121.800000</td>\n",
       "    </tr>\n",
       "    <tr>\n",
       "      <th>50%</th>\n",
       "      <td>49516.000000</td>\n",
       "      <td>3.504600</td>\n",
       "      <td>25.000000</td>\n",
       "      <td>5.077143</td>\n",
       "      <td>1.054094</td>\n",
       "      <td>1398.000000</td>\n",
       "      <td>2.751592</td>\n",
       "      <td>34.200000</td>\n",
       "      <td>-118.460000</td>\n",
       "    </tr>\n",
       "    <tr>\n",
       "      <th>75%</th>\n",
       "      <td>55705.500000</td>\n",
       "      <td>4.687500</td>\n",
       "      <td>35.000000</td>\n",
       "      <td>5.858646</td>\n",
       "      <td>1.088295</td>\n",
       "      <td>1874.000000</td>\n",
       "      <td>3.129167</td>\n",
       "      <td>37.720000</td>\n",
       "      <td>-118.020000</td>\n",
       "    </tr>\n",
       "    <tr>\n",
       "      <th>max</th>\n",
       "      <td>61895.000000</td>\n",
       "      <td>15.000100</td>\n",
       "      <td>52.000000</td>\n",
       "      <td>56.269231</td>\n",
       "      <td>10.500000</td>\n",
       "      <td>35682.000000</td>\n",
       "      <td>230.172414</td>\n",
       "      <td>41.950000</td>\n",
       "      <td>-114.550000</td>\n",
       "    </tr>\n",
       "  </tbody>\n",
       "</table>\n",
       "</div>"
      ],
      "text/plain": [
       "                 id        MedInc      HouseAge      AveRooms     AveBedrms  \\\n",
       "count  24759.000000  24759.000000  24759.000000  24759.000000  24759.000000   \n",
       "mean   49516.000000      3.832618     26.041561      5.168789      1.063599   \n",
       "std     7147.451994      1.797503     12.177907      1.252874      0.123630   \n",
       "min    37137.000000      0.499900      2.000000      1.000000      0.560000   \n",
       "25%    43326.500000      2.590150     17.000000      4.356443      1.020460   \n",
       "50%    49516.000000      3.504600     25.000000      5.077143      1.054094   \n",
       "75%    55705.500000      4.687500     35.000000      5.858646      1.088295   \n",
       "max    61895.000000     15.000100     52.000000     56.269231     10.500000   \n",
       "\n",
       "         Population      AveOccup      Latitude     Longitude  \n",
       "count  24759.000000  24759.000000  24759.000000  24759.000000  \n",
       "mean    1679.327548      2.830808     35.598007   -119.570208  \n",
       "std     1365.598976      1.615320      2.097787      1.977200  \n",
       "min        3.000000      0.764706     32.550000   -124.230000  \n",
       "25%      955.000000      2.400000     33.930000   -121.800000  \n",
       "50%     1398.000000      2.751592     34.200000   -118.460000  \n",
       "75%     1874.000000      3.129167     37.720000   -118.020000  \n",
       "max    35682.000000    230.172414     41.950000   -114.550000  "
      ]
     },
     "execution_count": 9,
     "metadata": {},
     "output_type": "execute_result"
    }
   ],
   "source": [
    "test.describe()"
   ]
  },
  {
   "cell_type": "markdown",
   "id": "5e9c4e05-93a0-412f-9b11-3ee1440080cf",
   "metadata": {},
   "source": [
    "* check of null values"
   ]
  },
  {
   "cell_type": "code",
   "execution_count": 10,
   "id": "3b54eff7-60c4-4953-85fb-a10eb4d4164d",
   "metadata": {},
   "outputs": [
    {
     "data": {
      "text/plain": [
       "id             0\n",
       "MedInc         0\n",
       "HouseAge       0\n",
       "AveRooms       0\n",
       "AveBedrms      0\n",
       "Population     0\n",
       "AveOccup       0\n",
       "Latitude       0\n",
       "Longitude      0\n",
       "MedHouseVal    0\n",
       "dtype: int64"
      ]
     },
     "execution_count": 10,
     "metadata": {},
     "output_type": "execute_result"
    }
   ],
   "source": [
    "train.isna().sum().sort_values(ascending=False)"
   ]
  },
  {
   "cell_type": "code",
   "execution_count": 11,
   "id": "22723d96-ba59-47e3-90ef-9f93774d6133",
   "metadata": {},
   "outputs": [
    {
     "data": {
      "text/plain": [
       "id            0\n",
       "MedInc        0\n",
       "HouseAge      0\n",
       "AveRooms      0\n",
       "AveBedrms     0\n",
       "Population    0\n",
       "AveOccup      0\n",
       "Latitude      0\n",
       "Longitude     0\n",
       "dtype: int64"
      ]
     },
     "execution_count": 11,
     "metadata": {},
     "output_type": "execute_result"
    }
   ],
   "source": [
    "test.isna().sum().sort_values(ascending=False)"
   ]
  },
  {
   "cell_type": "code",
   "execution_count": 12,
   "id": "48b4e0d9-9987-4298-8c9d-2f867744fa92",
   "metadata": {},
   "outputs": [
    {
     "data": {
      "text/plain": [
       "id             0\n",
       "MedHouseVal    0\n",
       "dtype: int64"
      ]
     },
     "execution_count": 12,
     "metadata": {},
     "output_type": "execute_result"
    }
   ],
   "source": [
    "sample.isna().sum().sort_values(ascending=False)"
   ]
  },
  {
   "cell_type": "markdown",
   "id": "a15f4672-472b-45e4-a039-9ebcfbe4218c",
   "metadata": {},
   "source": [
    "* get the size"
   ]
  },
  {
   "cell_type": "code",
   "execution_count": 14,
   "id": "a209c849-8d56-405e-91db-388eeeae5515",
   "metadata": {},
   "outputs": [
    {
     "data": {
      "text/plain": [
       "(37137, 24759, 24759)"
      ]
     },
     "execution_count": 14,
     "metadata": {},
     "output_type": "execute_result"
    }
   ],
   "source": [
    "len(train), len(test), len(sample)"
   ]
  },
  {
   "cell_type": "code",
   "execution_count": 17,
   "id": "8cfe36e0-7936-4539-839f-8a85d1d338e0",
   "metadata": {},
   "outputs": [
    {
     "data": {
      "text/plain": [
       "51.72222222222222"
      ]
     },
     "execution_count": 17,
     "metadata": {},
     "output_type": "execute_result"
    }
   ],
   "source": [
    "x = [5, 18, 15, 7, 23, 220, 130, 85, 103, 25, 80, 7, 24, 6, 13, 65, 37, 25, 24, 65, 82, 95, 77, 15, 70,\n",
    "110, 44, 28, 33, 81, 29, 14, 45, 92, 17, 53]\n",
    "pd.Series(x).mean()"
   ]
  },
  {
   "cell_type": "code",
   "execution_count": 18,
   "id": "dd66ea99-a131-41c7-bc48-aafba8c3bb7b",
   "metadata": {},
   "outputs": [
    {
     "data": {
      "text/plain": [
       "2021.4634920634921"
      ]
     },
     "execution_count": 18,
     "metadata": {},
     "output_type": "execute_result"
    }
   ],
   "source": [
    "import statistics as stat\n",
    "\n",
    "stat.variance(x)"
   ]
  },
  {
   "cell_type": "code",
   "execution_count": 19,
   "id": "0437cabf-7445-41ee-bc53-033134b58477",
   "metadata": {},
   "outputs": [
    {
     "data": {
      "image/png": "[encoded data removed]",
      "text/plain": [
       "<Figure size 800x600 with 1 Axes>"
      ]
     },
     "metadata": {},
     "output_type": "display_data"
    }
   ],
   "source": [
    "# Create a box plot\n",
    "plt.figure(figsize=(8, 6))\n",
    "plt.boxplot(x)\n",
    "plt.title('Box Plot of Particulate Concentrations')\n",
    "plt.ylabel('Micrograms per Cubic Meter')\n",
    "plt.show()"
   ]
  },
  {
   "cell_type": "code",
   "execution_count": 20,
   "id": "1dac861e-cbe7-4b33-92bf-56a89430cc42",
   "metadata": {},
   "outputs": [
    {
     "name": "stdout",
     "output_type": "stream",
     "text": [
      "127512000\n"
     ]
    }
   ],
   "source": [
    "print(25*24*23*22*21*20)"
   ]
  },
  {
   "cell_type": "code",
   "execution_count": null,
   "id": "307964ce-30b2-443c-b50b-c8d4a90986c1",
   "metadata": {},
   "outputs": [],
   "source": []
  }
 ],
 "metadata": {
  "kernelspec": {
   "display_name": "Python 3 (ipykernel)",
   "language": "python",
   "name": "python3"
  },
  "language_info": {
   "codemirror_mode": {
    "name": "ipython",
    "version": 3
   },
   "file_extension": ".py",
   "mimetype": "text/x-python",
   "name": "python",
   "nbconvert_exporter": "python",
   "pygments_lexer": "ipython3",
   "version": "3.11.7"
  }
 },
 "nbformat": 4,
 "nbformat_minor": 5
}
